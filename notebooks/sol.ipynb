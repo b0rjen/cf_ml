{
 "cells": [
  {
   "cell_type": "code",
   "execution_count": 1,
   "metadata": {},
   "outputs": [],
   "source": [
    "import pandas as pd \n",
    "import matplotlib.pyplot as plt"
   ]
  },
  {
   "cell_type": "code",
   "execution_count": 2,
   "metadata": {},
   "outputs": [],
   "source": [
    "df = pd.read_csv('../data/sol.csv',encoding='ISO-8859-1', delimiter=';')"
   ]
  },
  {
   "cell_type": "code",
   "execution_count": 3,
   "metadata": {},
   "outputs": [
    {
     "data": {
      "text/html": [
       "<div>\n",
       "<style scoped>\n",
       "    .dataframe tbody tr th:only-of-type {\n",
       "        vertical-align: middle;\n",
       "    }\n",
       "\n",
       "    .dataframe tbody tr th {\n",
       "        vertical-align: top;\n",
       "    }\n",
       "\n",
       "    .dataframe thead th {\n",
       "        text-align: right;\n",
       "    }\n",
       "</style>\n",
       "<table border=\"1\" class=\"dataframe\">\n",
       "  <thead>\n",
       "    <tr style=\"text-align: right;\">\n",
       "      <th></th>\n",
       "      <th>AÑO</th>\n",
       "      <th>MES</th>\n",
       "      <th>ESTACION_DE_MEDICION</th>\n",
       "      <th>CCAA</th>\n",
       "      <th>PROVINCIA</th>\n",
       "      <th>HORAS_DE_SOL_DIARIAS</th>\n",
       "      <th>INDICE_UV</th>\n",
       "    </tr>\n",
       "  </thead>\n",
       "  <tbody>\n",
       "    <tr>\n",
       "      <th>0</th>\n",
       "      <td>2011</td>\n",
       "      <td>1</td>\n",
       "      <td>MURCIA</td>\n",
       "      <td>Región de Murcia</td>\n",
       "      <td>Murcia</td>\n",
       "      <td>6,013</td>\n",
       "      <td>1,723</td>\n",
       "    </tr>\n",
       "    <tr>\n",
       "      <th>1</th>\n",
       "      <td>2011</td>\n",
       "      <td>1</td>\n",
       "      <td>MURCIA/ALCANTARILLA</td>\n",
       "      <td>Región de Murcia</td>\n",
       "      <td>Murcia</td>\n",
       "      <td>5,861</td>\n",
       "      <td>NaN</td>\n",
       "    </tr>\n",
       "    <tr>\n",
       "      <th>2</th>\n",
       "      <td>2011</td>\n",
       "      <td>1</td>\n",
       "      <td>MURCIA/SAN JAVIER</td>\n",
       "      <td>Región de Murcia</td>\n",
       "      <td>Murcia</td>\n",
       "      <td>5,319</td>\n",
       "      <td>NaN</td>\n",
       "    </tr>\n",
       "    <tr>\n",
       "      <th>3</th>\n",
       "      <td>2011</td>\n",
       "      <td>1</td>\n",
       "      <td>MURCIA/SAN JAVIER II</td>\n",
       "      <td>Región de Murcia</td>\n",
       "      <td>Murcia</td>\n",
       "      <td>5,187</td>\n",
       "      <td>NaN</td>\n",
       "    </tr>\n",
       "    <tr>\n",
       "      <th>4</th>\n",
       "      <td>2011</td>\n",
       "      <td>2</td>\n",
       "      <td>MURCIA</td>\n",
       "      <td>Región de Murcia</td>\n",
       "      <td>Murcia</td>\n",
       "      <td>8,0</td>\n",
       "      <td>2,796</td>\n",
       "    </tr>\n",
       "  </tbody>\n",
       "</table>\n",
       "</div>"
      ],
      "text/plain": [
       "    AÑO  MES  ESTACION_DE_MEDICION              CCAA PROVINCIA  \\\n",
       "0  2011    1                MURCIA  Región de Murcia    Murcia   \n",
       "1  2011    1   MURCIA/ALCANTARILLA  Región de Murcia    Murcia   \n",
       "2  2011    1     MURCIA/SAN JAVIER  Región de Murcia    Murcia   \n",
       "3  2011    1  MURCIA/SAN JAVIER II  Región de Murcia    Murcia   \n",
       "4  2011    2                MURCIA  Región de Murcia    Murcia   \n",
       "\n",
       "  HORAS_DE_SOL_DIARIAS INDICE_UV  \n",
       "0                6,013     1,723  \n",
       "1                5,861       NaN  \n",
       "2                5,319       NaN  \n",
       "3                5,187       NaN  \n",
       "4                  8,0     2,796  "
      ]
     },
     "execution_count": 3,
     "metadata": {},
     "output_type": "execute_result"
    }
   ],
   "source": [
    "df.head()"
   ]
  },
  {
   "cell_type": "code",
   "execution_count": 4,
   "metadata": {},
   "outputs": [],
   "source": [
    "df = df.drop(columns= ['ESTACION_DE_MEDICION', 'CCAA', 'PROVINCIA'])\n",
    "# quito las columnas que no me interesan para esto"
   ]
  },
  {
   "cell_type": "code",
   "execution_count": 5,
   "metadata": {},
   "outputs": [
    {
     "name": "stdout",
     "output_type": "stream",
     "text": [
      "<class 'pandas.core.frame.DataFrame'>\n",
      "RangeIndex: 1039 entries, 0 to 1038\n",
      "Data columns (total 4 columns):\n",
      " #   Column                Non-Null Count  Dtype \n",
      "---  ------                --------------  ----- \n",
      " 0   AÑO                   1039 non-null   int64 \n",
      " 1   MES                   1039 non-null   int64 \n",
      " 2   HORAS_DE_SOL_DIARIAS  1039 non-null   object\n",
      " 3   INDICE_UV             155 non-null    object\n",
      "dtypes: int64(2), object(2)\n",
      "memory usage: 32.6+ KB\n"
     ]
    }
   ],
   "source": [
    "df.info()"
   ]
  },
  {
   "cell_type": "code",
   "execution_count": 6,
   "metadata": {},
   "outputs": [],
   "source": [
    "df.set_index('AÑO', inplace=True)\n",
    "# pongo el año en el índice para la encuesta temporal"
   ]
  },
  {
   "cell_type": "code",
   "execution_count": 7,
   "metadata": {},
   "outputs": [],
   "source": [
    "df['HORAS_DE_SOL_DIARIAS'] = df['HORAS_DE_SOL_DIARIAS'].str.replace(',', '.').astype(float)\n",
    "df['INDICE_UV'] = df['INDICE_UV'].str.replace(',', '.').astype(float)\n",
    "# como son objects las columnas y quiero pasarlas a numéricas, reemplazo el punto por la coma"
   ]
  },
  {
   "cell_type": "code",
   "execution_count": 8,
   "metadata": {},
   "outputs": [
    {
     "name": "stdout",
     "output_type": "stream",
     "text": [
      "<class 'pandas.core.frame.DataFrame'>\n",
      "Index: 1039 entries, 2011 to 2023\n",
      "Data columns (total 3 columns):\n",
      " #   Column                Non-Null Count  Dtype  \n",
      "---  ------                --------------  -----  \n",
      " 0   MES                   1039 non-null   int64  \n",
      " 1   HORAS_DE_SOL_DIARIAS  1039 non-null   float64\n",
      " 2   INDICE_UV             155 non-null    float64\n",
      "dtypes: float64(2), int64(1)\n",
      "memory usage: 32.5 KB\n"
     ]
    }
   ],
   "source": [
    "df.info()"
   ]
  },
  {
   "cell_type": "code",
   "execution_count": 9,
   "metadata": {},
   "outputs": [
    {
     "name": "stdout",
     "output_type": "stream",
     "text": [
      "Media de HORAS_DE_SOL_DIARIAS: 8.445337824831569\n",
      "Media de INDICE_UV: 4.88521935483871\n"
     ]
    }
   ],
   "source": [
    "media_horas_sol_diarias = df['HORAS_DE_SOL_DIARIAS'].mean()\n",
    "media_indice_uv = df['INDICE_UV'].mean()\n",
    "print(\"Media de HORAS_DE_SOL_DIARIAS:\", media_horas_sol_diarias)\n",
    "print(\"Media de INDICE_UV:\", media_indice_uv)\n"
   ]
  },
  {
   "cell_type": "code",
   "execution_count": 10,
   "metadata": {},
   "outputs": [
    {
     "name": "stdout",
     "output_type": "stream",
     "text": [
      "Media de horas de sol diarias (enero-marzo): 6.832767441860465\n",
      "Media del índice UV (enero-marzo): 2.8533589743589745\n"
     ]
    }
   ],
   "source": [
    "df_invierno = df[df['MES'].isin([1, 2, 3])]\n",
    "\n",
    "# Calcula la media de horas de sol diarias y la media del índice UV para estos meses\n",
    "media_horas_sol = df_invierno['HORAS_DE_SOL_DIARIAS'].mean()\n",
    "media_indice_uv = df_invierno['INDICE_UV'].mean()\n",
    "\n",
    "print(\"Media de horas de sol diarias (enero-marzo):\", media_horas_sol)\n",
    "print(\"Media del índice UV (enero-marzo):\", media_indice_uv)"
   ]
  },
  {
   "cell_type": "code",
   "execution_count": null,
   "metadata": {},
   "outputs": [],
   "source": [
    "# datos obtenidos para las horas solares de los paises emisores: "
   ]
  },
  {
   "cell_type": "code",
   "execution_count": 11,
   "metadata": {},
   "outputs": [],
   "source": [
    "horas_de_sol_en_enero = 80\n",
    "horas_de_sol_en_febrero = 107\n",
    "horas_de_sol_en_marzo = 133"
   ]
  },
  {
   "cell_type": "code",
   "execution_count": 12,
   "metadata": {},
   "outputs": [
    {
     "data": {
      "text/plain": [
       "106.66666666666667"
      ]
     },
     "execution_count": 12,
     "metadata": {},
     "output_type": "execute_result"
    }
   ],
   "source": [
    "media_horas_sol = (horas_de_sol_en_enero + horas_de_sol_en_febrero + horas_de_sol_en_marzo) / 3\n",
    "media_horas_sol"
   ]
  },
  {
   "cell_type": "code",
   "execution_count": 13,
   "metadata": {},
   "outputs": [
    {
     "data": {
      "text/plain": [
       "4.444444444444445"
      ]
     },
     "execution_count": 13,
     "metadata": {},
     "output_type": "execute_result"
    }
   ],
   "source": [
    "media_horas_de_sol_por_dia = media_horas_sol / 24\n",
    "media_horas_de_sol_por_dia"
   ]
  }
 ],
 "metadata": {
  "kernelspec": {
   "display_name": "cf_ml",
   "language": "python",
   "name": "python3"
  },
  "language_info": {
   "codemirror_mode": {
    "name": "ipython",
    "version": 3
   },
   "file_extension": ".py",
   "mimetype": "text/x-python",
   "name": "python",
   "nbconvert_exporter": "python",
   "pygments_lexer": "ipython3",
   "version": "3.12.0"
  }
 },
 "nbformat": 4,
 "nbformat_minor": 2
}
