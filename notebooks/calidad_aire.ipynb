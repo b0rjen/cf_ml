{
 "cells": [
  {
   "cell_type": "code",
   "execution_count": 10,
   "metadata": {},
   "outputs": [],
   "source": [
    "import pandas as pd \n",
    "import matplotlib.pyplot as plt "
   ]
  },
  {
   "cell_type": "code",
   "execution_count": 11,
   "metadata": {},
   "outputs": [],
   "source": [
    "df = pd.read_excel('../data/calidad_aire.xlsx')"
   ]
  },
  {
   "cell_type": "code",
   "execution_count": 19,
   "metadata": {},
   "outputs": [
    {
     "name": "stdout",
     "output_type": "stream",
     "text": [
      "     AÑO  MES      ESTACION          CALIDAD_AIRE              CCAA PROVINCIA  \\\n",
      "0   2022    2  Alcantarilla                 Buena  Región de Murcia    Murcia   \n",
      "1   2022    2  Alcantarilla  Razonablemente buena  Región de Murcia    Murcia   \n",
      "2   2022    2      Alumbres                 Buena  Región de Murcia    Murcia   \n",
      "3   2022    2      Alumbres  Razonablemente buena  Región de Murcia    Murcia   \n",
      "4   2022    2      Alumbres               Regular  Región de Murcia    Murcia   \n",
      "5   2022    2      Caravaca                 Buena  Región de Murcia    Murcia   \n",
      "6   2022    2      Caravaca  Razonablemente buena  Región de Murcia    Murcia   \n",
      "7   2022    2    La aljorra                 Buena  Región de Murcia    Murcia   \n",
      "8   2022    2    La aljorra  Razonablemente buena  Región de Murcia    Murcia   \n",
      "9   2022    2         Lorca                 Buena  Región de Murcia    Murcia   \n",
      "10  2022    2         Lorca  Razonablemente buena  Región de Murcia    Murcia   \n",
      "11  2022    2       Mompean                 Buena  Región de Murcia    Murcia   \n",
      "12  2022    2       Mompean          Desfavorable  Región de Murcia    Murcia   \n",
      "13  2022    2       Mompean  Razonablemente buena  Región de Murcia    Murcia   \n",
      "14  2022    2       Mompean               Regular  Región de Murcia    Murcia   \n",
      "15  2022    2   San basilio                 Buena  Región de Murcia    Murcia   \n",
      "16  2022    2   San basilio          Desfavorable  Región de Murcia    Murcia   \n",
      "17  2022    2   San basilio  Razonablemente buena  Región de Murcia    Murcia   \n",
      "18  2022    2   San basilio               Regular  Región de Murcia    Murcia   \n",
      "19  2022    2         Valle                 Buena  Región de Murcia    Murcia   \n",
      "\n",
      "    PORCENTAJE_CALIDAD_AIRE  \n",
      "0                     22.02  \n",
      "1                     77.98  \n",
      "2                     17.96  \n",
      "3                     79.94  \n",
      "4                      2.10  \n",
      "5                     94.94  \n",
      "6                      5.06  \n",
      "7                     10.66  \n",
      "8                     89.34  \n",
      "9                     37.95  \n",
      "10                    62.05  \n",
      "11                     4.33  \n",
      "12                     1.79  \n",
      "13                    88.06  \n",
      "14                     5.82  \n",
      "15                     0.66  \n",
      "16                    22.77  \n",
      "17                    45.21  \n",
      "18                    31.35  \n",
      "19                    14.31  \n"
     ]
    }
   ],
   "source": [
    "print(df.head(20))"
   ]
  },
  {
   "cell_type": "code",
   "execution_count": null,
   "metadata": {},
   "outputs": [],
   "source": [
    "# me interesa quedarme con la calidad buena y razonablemente buena y comparar con el resto"
   ]
  },
  {
   "cell_type": "code",
   "execution_count": 13,
   "metadata": {},
   "outputs": [],
   "source": [
    "agrupacion_calidad = df.groupby('CALIDAD_AIRE').size()\n"
   ]
  },
  {
   "cell_type": "code",
   "execution_count": 14,
   "metadata": {},
   "outputs": [],
   "source": [
    "suma_interes = agrupacion_calidad.loc[['Buena', 'Razonablemente buena']].sum()\n"
   ]
  },
  {
   "cell_type": "code",
   "execution_count": 15,
   "metadata": {},
   "outputs": [
    {
     "data": {
      "text/plain": [
       "304"
      ]
     },
     "execution_count": 15,
     "metadata": {},
     "output_type": "execute_result"
    }
   ],
   "source": [
    "suma_interes"
   ]
  },
  {
   "cell_type": "code",
   "execution_count": 16,
   "metadata": {},
   "outputs": [],
   "source": [
    "suma_resto = agrupacion_calidad.sum() - suma_interes\n"
   ]
  },
  {
   "cell_type": "code",
   "execution_count": 17,
   "metadata": {},
   "outputs": [
    {
     "data": {
      "text/plain": [
       "274"
      ]
     },
     "execution_count": 17,
     "metadata": {},
     "output_type": "execute_result"
    }
   ],
   "source": [
    "suma_resto"
   ]
  },
  {
   "cell_type": "code",
   "execution_count": 20,
   "metadata": {},
   "outputs": [
    {
     "data": {
      "image/png": "[encoded data removed]",
      "text/plain": [
       "<Figure size 1000x600 with 1 Axes>"
      ]
     },
     "metadata": {},
     "output_type": "display_data"
    }
   ],
   "source": [
    "categorias = ['Buena y Razonablemente Buena', 'Resto de Categorías']\n",
    "\n",
    "# Valores correspondientes a cada categoría\n",
    "valores = [suma_interes, suma_resto]\n",
    "\n",
    "# Creando el gráfico de barras\n",
    "plt.figure(figsize=(10, 6))  \n",
    "plt.bar(categorias, valores, color=['#41b8d5', '#31356e'])  # Colores actualizados para Canva\n",
    "\n",
    "# Añadiendo título y etiquetas para los ejes\n",
    "plt.title('Comparación de la Calidad del Aire')\n",
    "plt.xlabel('Categorías de Calidad del Aire')\n",
    "plt.ylabel('')\n",
    "\n",
    "# Guardar como SVG\n",
    "plt.savefig('calidad_aire_comparacion.svg', format='svg', dpi=300)\n",
    "\n",
    "# Mostrando el gráfico\n",
    "plt.show()\n"
   ]
  }
 ],
 "metadata": {
  "kernelspec": {
   "display_name": "cf_ml",
   "language": "python",
   "name": "python3"
  },
  "language_info": {
   "codemirror_mode": {
    "name": "ipython",
    "version": 3
   },
   "file_extension": ".py",
   "mimetype": "text/x-python",
   "name": "python",
   "nbconvert_exporter": "python",
   "pygments_lexer": "ipython3",
   "version": "3.12.0"
  }
 },
 "nbformat": 4,
 "nbformat_minor": 2
}
