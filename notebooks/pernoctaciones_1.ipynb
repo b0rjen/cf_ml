{
 "cells": [
  {
   "cell_type": "code",
   "execution_count": 1,
   "metadata": {},
   "outputs": [],
   "source": [
    "import polars as pl \n",
    "import matplotlib.pyplot as plt"
   ]
  },
  {
   "cell_type": "code",
   "execution_count": 9,
   "metadata": {},
   "outputs": [],
   "source": [
    "df = pl.read_csv('../data/33429_nºviajes_pernoctaciones_x_categoria.csv', separator=';')"
   ]
  },
  {
   "cell_type": "code",
   "execution_count": 10,
   "metadata": {},
   "outputs": [
    {
     "data": {
      "text/html": [
       "<div><style>\n",
       ".dataframe > thead > tr,\n",
       ".dataframe > tbody > tr {\n",
       "  text-align: right;\n",
       "  white-space: pre-wrap;\n",
       "}\n",
       "</style>\n",
       "<small>shape: (5, 5)</small><table border=\"1\" class=\"dataframe\"><thead><tr><th>Viajes/pernoctaciones</th><th>Formas de turismo</th><th>Categoría de visitantes</th><th>periodo</th><th>Total</th></tr><tr><td>str</td><td>str</td><td>str</td><td>i64</td><td>str</td></tr></thead><tbody><tr><td>&quot;Número de viaj…</td><td>&quot;Turismo recept…</td><td>&quot;Turistas&quot;</td><td>2022</td><td>&quot;71.659.281&quot;</td></tr><tr><td>&quot;Número de viaj…</td><td>&quot;Turismo recept…</td><td>&quot;Turistas&quot;</td><td>2021</td><td>&quot;31.180.802&quot;</td></tr><tr><td>&quot;Número de viaj…</td><td>&quot;Turismo recept…</td><td>&quot;Turistas&quot;</td><td>2020</td><td>&quot;18.933.103&quot;</td></tr><tr><td>&quot;Número de viaj…</td><td>&quot;Turismo recept…</td><td>&quot;Turistas&quot;</td><td>2019</td><td>&quot;83.509.153&quot;</td></tr><tr><td>&quot;Número de viaj…</td><td>&quot;Turismo recept…</td><td>&quot;Turistas&quot;</td><td>2018</td><td>&quot;82.808.413&quot;</td></tr></tbody></table></div>"
      ],
      "text/plain": [
       "shape: (5, 5)\n",
       "┌───────────────────────┬───────────────────┬─────────────────────────┬─────────┬────────────┐\n",
       "│ Viajes/pernoctaciones ┆ Formas de turismo ┆ Categoría de visitantes ┆ periodo ┆ Total      │\n",
       "│ ---                   ┆ ---               ┆ ---                     ┆ ---     ┆ ---        │\n",
       "│ str                   ┆ str               ┆ str                     ┆ i64     ┆ str        │\n",
       "╞═══════════════════════╪═══════════════════╪═════════════════════════╪═════════╪════════════╡\n",
       "│ Número de viajes      ┆ Turismo receptor  ┆ Turistas                ┆ 2022    ┆ 71.659.281 │\n",
       "│ Número de viajes      ┆ Turismo receptor  ┆ Turistas                ┆ 2021    ┆ 31.180.802 │\n",
       "│ Número de viajes      ┆ Turismo receptor  ┆ Turistas                ┆ 2020    ┆ 18.933.103 │\n",
       "│ Número de viajes      ┆ Turismo receptor  ┆ Turistas                ┆ 2019    ┆ 83.509.153 │\n",
       "│ Número de viajes      ┆ Turismo receptor  ┆ Turistas                ┆ 2018    ┆ 82.808.413 │\n",
       "└───────────────────────┴───────────────────┴─────────────────────────┴─────────┴────────────┘"
      ]
     },
     "execution_count": 10,
     "metadata": {},
     "output_type": "execute_result"
    }
   ],
   "source": [
    "df.head()"
   ]
  },
  {
   "cell_type": "code",
   "execution_count": 12,
   "metadata": {},
   "outputs": [
    {
     "data": {
      "text/html": [
       "<div><style>\n",
       ".dataframe > thead > tr,\n",
       ".dataframe > tbody > tr {\n",
       "  text-align: right;\n",
       "  white-space: pre-wrap;\n",
       "}\n",
       "</style>\n",
       "<small>shape: (9, 6)</small><table border=\"1\" class=\"dataframe\"><thead><tr><th>statistic</th><th>Viajes/pernoctaciones</th><th>Formas de turismo</th><th>Categoría de visitantes</th><th>periodo</th><th>Total</th></tr><tr><td>str</td><td>str</td><td>str</td><td>str</td><td>f64</td><td>str</td></tr></thead><tbody><tr><td>&quot;count&quot;</td><td>&quot;84&quot;</td><td>&quot;84&quot;</td><td>&quot;84&quot;</td><td>84.0</td><td>&quot;84&quot;</td></tr><tr><td>&quot;null_count&quot;</td><td>&quot;0&quot;</td><td>&quot;0&quot;</td><td>&quot;0&quot;</td><td>0.0</td><td>&quot;0&quot;</td></tr><tr><td>&quot;mean&quot;</td><td>null</td><td>null</td><td>null</td><td>2019.0</td><td>null</td></tr><tr><td>&quot;std&quot;</td><td>null</td><td>null</td><td>null</td><td>2.012012</td><td>null</td></tr><tr><td>&quot;min&quot;</td><td>&quot;Número de pern…</td><td>&quot;Turismo emisor…</td><td>&quot;Excursionistas…</td><td>2016.0</td><td>&quot;..&quot;</td></tr><tr><td>&quot;25%&quot;</td><td>null</td><td>null</td><td>null</td><td>2017.0</td><td>null</td></tr><tr><td>&quot;50%&quot;</td><td>null</td><td>null</td><td>null</td><td>2019.0</td><td>null</td></tr><tr><td>&quot;75%&quot;</td><td>null</td><td>null</td><td>null</td><td>2021.0</td><td>null</td></tr><tr><td>&quot;max&quot;</td><td>&quot;Número de viaj…</td><td>&quot;Turismo recept…</td><td>&quot;Turistas&quot;</td><td>2022.0</td><td>&quot;96.449.394&quot;</td></tr></tbody></table></div>"
      ],
      "text/plain": [
       "shape: (9, 6)\n",
       "┌────────────┬────────────────────────┬───────────────────┬────────────────┬──────────┬────────────┐\n",
       "│ statistic  ┆ Viajes/pernoctaciones  ┆ Formas de turismo ┆ Categoría de   ┆ periodo  ┆ Total      │\n",
       "│ ---        ┆ ---                    ┆ ---               ┆ visitantes     ┆ ---      ┆ ---        │\n",
       "│ str        ┆ str                    ┆ str               ┆ ---            ┆ f64      ┆ str        │\n",
       "│            ┆                        ┆                   ┆ str            ┆          ┆            │\n",
       "╞════════════╪════════════════════════╪═══════════════════╪════════════════╪══════════╪════════════╡\n",
       "│ count      ┆ 84                     ┆ 84                ┆ 84             ┆ 84.0     ┆ 84         │\n",
       "│ null_count ┆ 0                      ┆ 0                 ┆ 0              ┆ 0.0      ┆ 0          │\n",
       "│ mean       ┆ null                   ┆ null              ┆ null           ┆ 2019.0   ┆ null       │\n",
       "│ std        ┆ null                   ┆ null              ┆ null           ┆ 2.012012 ┆ null       │\n",
       "│ min        ┆ Número de              ┆ Turismo emisor    ┆ Excursionistas ┆ 2016.0   ┆ ..         │\n",
       "│            ┆ pernoctaciones         ┆                   ┆                ┆          ┆            │\n",
       "│ 25%        ┆ null                   ┆ null              ┆ null           ┆ 2017.0   ┆ null       │\n",
       "│ 50%        ┆ null                   ┆ null              ┆ null           ┆ 2019.0   ┆ null       │\n",
       "│ 75%        ┆ null                   ┆ null              ┆ null           ┆ 2021.0   ┆ null       │\n",
       "│ max        ┆ Número de viajes       ┆ Turismo receptor  ┆ Turistas       ┆ 2022.0   ┆ 96.449.394 │\n",
       "└────────────┴────────────────────────┴───────────────────┴────────────────┴──────────┴────────────┘"
      ]
     },
     "execution_count": 12,
     "metadata": {},
     "output_type": "execute_result"
    }
   ],
   "source": [
    "df.describe()"
   ]
  },
  {
   "cell_type": "code",
   "execution_count": 15,
   "metadata": {},
   "outputs": [
    {
     "data": {
      "text/plain": [
       "OrderedDict([('Viajes/pernoctaciones', String),\n",
       "             ('Formas de turismo', String),\n",
       "             ('Categoría de visitantes', String),\n",
       "             ('periodo', Int64),\n",
       "             ('Total', String)])"
      ]
     },
     "execution_count": 15,
     "metadata": {},
     "output_type": "execute_result"
    }
   ],
   "source": [
    "df.schema"
   ]
  },
  {
   "cell_type": "code",
   "execution_count": 16,
   "metadata": {},
   "outputs": [],
   "source": [
    "tipo_turista = df.select(pl.col('Categoría de visitantes').unique())"
   ]
  },
  {
   "cell_type": "code",
   "execution_count": 17,
   "metadata": {},
   "outputs": [
    {
     "name": "stdout",
     "output_type": "stream",
     "text": [
      "shape: (2, 1)\n",
      "┌─────────────────────────┐\n",
      "│ Categoría de visitantes │\n",
      "│ ---                     │\n",
      "│ str                     │\n",
      "╞═════════════════════════╡\n",
      "│ Turistas                │\n",
      "│ Excursionistas          │\n",
      "└─────────────────────────┘\n"
     ]
    }
   ],
   "source": [
    "print(tipo_turista)"
   ]
  },
  {
   "cell_type": "code",
   "execution_count": 18,
   "metadata": {},
   "outputs": [
    {
     "data": {
      "text/html": [
       "<div><style>\n",
       ".dataframe > thead > tr,\n",
       ".dataframe > tbody > tr {\n",
       "  text-align: right;\n",
       "  white-space: pre-wrap;\n",
       "}\n",
       "</style>\n",
       "<small>shape: (42, 5)</small><table border=\"1\" class=\"dataframe\"><thead><tr><th>Viajes/pernoctaciones</th><th>Formas de turismo</th><th>Categoría de visitantes</th><th>periodo</th><th>Total</th></tr><tr><td>str</td><td>str</td><td>str</td><td>i64</td><td>str</td></tr></thead><tbody><tr><td>&quot;Número de viaj…</td><td>&quot;Turismo recept…</td><td>&quot;Turistas&quot;</td><td>2022</td><td>&quot;71.659.281&quot;</td></tr><tr><td>&quot;Número de viaj…</td><td>&quot;Turismo recept…</td><td>&quot;Turistas&quot;</td><td>2021</td><td>&quot;31.180.802&quot;</td></tr><tr><td>&quot;Número de viaj…</td><td>&quot;Turismo recept…</td><td>&quot;Turistas&quot;</td><td>2020</td><td>&quot;18.933.103&quot;</td></tr><tr><td>&quot;Número de viaj…</td><td>&quot;Turismo recept…</td><td>&quot;Turistas&quot;</td><td>2019</td><td>&quot;83.509.153&quot;</td></tr><tr><td>&quot;Número de viaj…</td><td>&quot;Turismo recept…</td><td>&quot;Turistas&quot;</td><td>2018</td><td>&quot;82.808.413&quot;</td></tr><tr><td>&quot;Número de viaj…</td><td>&quot;Turismo recept…</td><td>&quot;Turistas&quot;</td><td>2017</td><td>&quot;81.868.522&quot;</td></tr><tr><td>&quot;Número de viaj…</td><td>&quot;Turismo recept…</td><td>&quot;Turistas&quot;</td><td>2016</td><td>&quot;75.315.008&quot;</td></tr><tr><td>&quot;Número de viaj…</td><td>&quot;Turismo intern…</td><td>&quot;Turistas&quot;</td><td>2022</td><td>&quot;155.253.027&quot;</td></tr><tr><td>&quot;Número de viaj…</td><td>&quot;Turismo intern…</td><td>&quot;Turistas&quot;</td><td>2021</td><td>&quot;135.687.709&quot;</td></tr><tr><td>&quot;Número de viaj…</td><td>&quot;Turismo intern…</td><td>&quot;Turistas&quot;</td><td>2020</td><td>&quot;96.449.394&quot;</td></tr><tr><td>&quot;Número de viaj…</td><td>&quot;Turismo intern…</td><td>&quot;Turistas&quot;</td><td>2019</td><td>&quot;173.754.971&quot;</td></tr><tr><td>&quot;Número de viaj…</td><td>&quot;Turismo intern…</td><td>&quot;Turistas&quot;</td><td>2018</td><td>&quot;176.772.352&quot;</td></tr><tr><td>&hellip;</td><td>&hellip;</td><td>&hellip;</td><td>&hellip;</td><td>&hellip;</td></tr><tr><td>&quot;Número de pern…</td><td>&quot;Turismo intern…</td><td>&quot;Turistas&quot;</td><td>2020</td><td>&quot;450.689.308&quot;</td></tr><tr><td>&quot;Número de pern…</td><td>&quot;Turismo intern…</td><td>&quot;Turistas&quot;</td><td>2019</td><td>&quot;649.516.399&quot;</td></tr><tr><td>&quot;Número de pern…</td><td>&quot;Turismo intern…</td><td>&quot;Turistas&quot;</td><td>2018</td><td>&quot;644.365.970&quot;</td></tr><tr><td>&quot;Número de pern…</td><td>&quot;Turismo intern…</td><td>&quot;Turistas&quot;</td><td>2017</td><td>&quot;660.794.364&quot;</td></tr><tr><td>&quot;Número de pern…</td><td>&quot;Turismo intern…</td><td>&quot;Turistas&quot;</td><td>2016</td><td>&quot;643.050.482&quot;</td></tr><tr><td>&quot;Número de pern…</td><td>&quot;Turismo emisor…</td><td>&quot;Turistas&quot;</td><td>2022</td><td>&quot;68.893.926&quot;</td></tr><tr><td>&quot;Número de pern…</td><td>&quot;Turismo emisor…</td><td>&quot;Turistas&quot;</td><td>2021</td><td>&quot;68.893.926&quot;</td></tr><tr><td>&quot;Número de pern…</td><td>&quot;Turismo emisor…</td><td>&quot;Turistas&quot;</td><td>2020</td><td>&quot;42.719.916&quot;</td></tr><tr><td>&quot;Número de pern…</td><td>&quot;Turismo emisor…</td><td>&quot;Turistas&quot;</td><td>2019</td><td>&quot;144.391.738&quot;</td></tr><tr><td>&quot;Número de pern…</td><td>&quot;Turismo emisor…</td><td>&quot;Turistas&quot;</td><td>2018</td><td>&quot;151.773.267&quot;</td></tr><tr><td>&quot;Número de pern…</td><td>&quot;Turismo emisor…</td><td>&quot;Turistas&quot;</td><td>2017</td><td>&quot;141.154.479&quot;</td></tr><tr><td>&quot;Número de pern…</td><td>&quot;Turismo emisor…</td><td>&quot;Turistas&quot;</td><td>2016</td><td>&quot;137.274.029&quot;</td></tr></tbody></table></div>"
      ],
      "text/plain": [
       "shape: (42, 5)\n",
       "┌──────────────────────────┬───────────────────┬─────────────────────────┬─────────┬─────────────┐\n",
       "│ Viajes/pernoctaciones    ┆ Formas de turismo ┆ Categoría de visitantes ┆ periodo ┆ Total       │\n",
       "│ ---                      ┆ ---               ┆ ---                     ┆ ---     ┆ ---         │\n",
       "│ str                      ┆ str               ┆ str                     ┆ i64     ┆ str         │\n",
       "╞══════════════════════════╪═══════════════════╪═════════════════════════╪═════════╪═════════════╡\n",
       "│ Número de viajes         ┆ Turismo receptor  ┆ Turistas                ┆ 2022    ┆ 71.659.281  │\n",
       "│ Número de viajes         ┆ Turismo receptor  ┆ Turistas                ┆ 2021    ┆ 31.180.802  │\n",
       "│ Número de viajes         ┆ Turismo receptor  ┆ Turistas                ┆ 2020    ┆ 18.933.103  │\n",
       "│ Número de viajes         ┆ Turismo receptor  ┆ Turistas                ┆ 2019    ┆ 83.509.153  │\n",
       "│ Número de viajes         ┆ Turismo receptor  ┆ Turistas                ┆ 2018    ┆ 82.808.413  │\n",
       "│ …                        ┆ …                 ┆ …                       ┆ …       ┆ …           │\n",
       "│ Número de pernoctaciones ┆ Turismo emisor    ┆ Turistas                ┆ 2020    ┆ 42.719.916  │\n",
       "│ Número de pernoctaciones ┆ Turismo emisor    ┆ Turistas                ┆ 2019    ┆ 144.391.738 │\n",
       "│ Número de pernoctaciones ┆ Turismo emisor    ┆ Turistas                ┆ 2018    ┆ 151.773.267 │\n",
       "│ Número de pernoctaciones ┆ Turismo emisor    ┆ Turistas                ┆ 2017    ┆ 141.154.479 │\n",
       "│ Número de pernoctaciones ┆ Turismo emisor    ┆ Turistas                ┆ 2016    ┆ 137.274.029 │\n",
       "└──────────────────────────┴───────────────────┴─────────────────────────┴─────────┴─────────────┘"
      ]
     },
     "execution_count": 18,
     "metadata": {},
     "output_type": "execute_result"
    }
   ],
   "source": [
    "df1 = df.filter(pl.col('Categoría de visitantes') != 'Excursionistas')\n",
    "df1"
   ]
  },
  {
   "cell_type": "code",
   "execution_count": 20,
   "metadata": {},
   "outputs": [
    {
     "name": "stdout",
     "output_type": "stream",
     "text": [
      "shape: (3, 1)\n",
      "┌───────────────────┐\n",
      "│ Formas de turismo │\n",
      "│ ---               │\n",
      "│ str               │\n",
      "╞═══════════════════╡\n",
      "│ Turismo emisor    │\n",
      "│ Turismo receptor  │\n",
      "│ Turismo interno   │\n",
      "└───────────────────┘\n"
     ]
    }
   ],
   "source": [
    "forma_de_turismo = df.select(pl.col('Formas de turismo').unique())\n",
    "print(forma_de_turismo)"
   ]
  },
  {
   "cell_type": "code",
   "execution_count": 21,
   "metadata": {},
   "outputs": [
    {
     "name": "stdout",
     "output_type": "stream",
     "text": [
      "shape: (14, 5)\n",
      "┌──────────────────────────┬───────────────────┬─────────────────────────┬─────────┬─────────────┐\n",
      "│ Viajes/pernoctaciones    ┆ Formas de turismo ┆ Categoría de visitantes ┆ periodo ┆ Total       │\n",
      "│ ---                      ┆ ---               ┆ ---                     ┆ ---     ┆ ---         │\n",
      "│ str                      ┆ str               ┆ str                     ┆ i64     ┆ str         │\n",
      "╞══════════════════════════╪═══════════════════╪═════════════════════════╪═════════╪═════════════╡\n",
      "│ Número de viajes         ┆ Turismo receptor  ┆ Turistas                ┆ 2022    ┆ 71.659.281  │\n",
      "│ Número de viajes         ┆ Turismo receptor  ┆ Turistas                ┆ 2021    ┆ 31.180.802  │\n",
      "│ Número de viajes         ┆ Turismo receptor  ┆ Turistas                ┆ 2020    ┆ 18.933.103  │\n",
      "│ Número de viajes         ┆ Turismo receptor  ┆ Turistas                ┆ 2019    ┆ 83.509.153  │\n",
      "│ Número de viajes         ┆ Turismo receptor  ┆ Turistas                ┆ 2018    ┆ 82.808.413  │\n",
      "│ …                        ┆ …                 ┆ …                       ┆ …       ┆ …           │\n",
      "│ Número de pernoctaciones ┆ Turismo receptor  ┆ Turistas                ┆ 2020    ┆ 147.986.129 │\n",
      "│ Número de pernoctaciones ┆ Turismo receptor  ┆ Turistas                ┆ 2019    ┆ 594.017.856 │\n",
      "│ Número de pernoctaciones ┆ Turismo receptor  ┆ Turistas                ┆ 2018    ┆ 616.714.999 │\n",
      "│ Número de pernoctaciones ┆ Turismo receptor  ┆ Turistas                ┆ 2017    ┆ 633.696.886 │\n",
      "│ Número de pernoctaciones ┆ Turismo receptor  ┆ Turistas                ┆ 2016    ┆ 593.417.445 │\n",
      "└──────────────────────────┴───────────────────┴─────────────────────────┴─────────┴─────────────┘\n"
     ]
    }
   ],
   "source": [
    "df2 = df1.filter(pl.col('Formas de turismo') == 'Turismo receptor')\n",
    "\n",
    "print(df2)"
   ]
  },
  {
   "cell_type": "code",
   "execution_count": 22,
   "metadata": {},
   "outputs": [
    {
     "name": "stdout",
     "output_type": "stream",
     "text": [
      "shape: (2, 1)\n",
      "┌──────────────────────────┐\n",
      "│ Viajes/pernoctaciones    │\n",
      "│ ---                      │\n",
      "│ str                      │\n",
      "╞══════════════════════════╡\n",
      "│ Número de pernoctaciones │\n",
      "│ Número de viajes         │\n",
      "└──────────────────────────┘\n"
     ]
    }
   ],
   "source": [
    "forma_de_viaje = df.select(pl.col('Viajes/pernoctaciones').unique())\n",
    "print(forma_de_viaje)"
   ]
  },
  {
   "cell_type": "code",
   "execution_count": 23,
   "metadata": {},
   "outputs": [],
   "source": [
    "df3 = df2.filter(pl.col('Viajes/pernoctaciones') == 'Número de pernoctaciones')"
   ]
  },
  {
   "cell_type": "code",
   "execution_count": 24,
   "metadata": {},
   "outputs": [],
   "source": [
    "df4 = df3.drop('Categoría de visitantes')"
   ]
  },
  {
   "cell_type": "code",
   "execution_count": 26,
   "metadata": {},
   "outputs": [],
   "source": [
    "df_pandas = df4.to_pandas()"
   ]
  },
  {
   "cell_type": "code",
   "execution_count": 39,
   "metadata": {},
   "outputs": [],
   "source": [
    "df_pandas['periodo'] = df_pandas['periodo'].astype(int)"
   ]
  },
  {
   "cell_type": "code",
   "execution_count": 40,
   "metadata": {},
   "outputs": [
    {
     "name": "stdout",
     "output_type": "stream",
     "text": [
      "      Viajes/pernoctaciones Formas de turismo  periodo        Total\n",
      "6  Número de pernoctaciones  Turismo receptor     2016  593.417.445\n",
      "5  Número de pernoctaciones  Turismo receptor     2017  633.696.886\n",
      "4  Número de pernoctaciones  Turismo receptor     2018  616.714.999\n",
      "3  Número de pernoctaciones  Turismo receptor     2019  594.017.856\n",
      "2  Número de pernoctaciones  Turismo receptor     2020  147.986.129\n",
      "1  Número de pernoctaciones  Turismo receptor     2021  253.985.281\n",
      "0  Número de pernoctaciones  Turismo receptor     2022  537.611.775\n"
     ]
    }
   ],
   "source": [
    "print(df_pandas)"
   ]
  },
  {
   "cell_type": "code",
   "execution_count": 41,
   "metadata": {},
   "outputs": [],
   "source": [
    "\n",
    "# Aseguramos que la columna 'periodo' está en formato de entero si no lo está\n",
    "\n",
    "\n",
    "\n",
    "\n",
    "# # Ahora creamos el gráfico de líneas\n",
    "# plt.figure(figsize=(12, 6))\n",
    "# plt.plot(df_pandas['periodo'], df_pandas['Total'], marker='o', linestyle='-', color='blue')\n",
    "\n",
    "# # Añadimos títulos y etiquetas\n",
    "# plt.title('Total por Periodo')\n",
    "# plt.xlabel('Periodo (Año)')\n",
    "# plt.ylabel('Total')\n",
    "\n",
    "# # Añadimos los valores de 'Total' en cada punto del gráfico para mejor referencia\n",
    "# for x, y in zip(df_pandas['periodo'], df_pandas['Total']):\n",
    "#     label = f\"{y:,.0f}\"\n",
    "#     plt.annotate(label,  # Este es el texto que se añade\n",
    "#                  (x, y),  # Estas son las coordenadas para posicionar la etiqueta\n",
    "#                  textcoords=\"offset points\",  # cómo posicionar el texto\n",
    "#                  xytext=(0,10),  # distancia desde el texto hasta los puntos (x,y)\n",
    "#                  ha='center')  # alineación horizontal centrada\n",
    "\n",
    "# # Ajustamos el formato del eje y para que sea más legible\n",
    "# plt.gca().get_yaxis().set_major_formatter(plt.FuncFormatter(lambda x, p: format(int(x), ',')))\n",
    "\n",
    "# # Mostramos el gráfico\n",
    "# plt.show()\n",
    "\n"
   ]
  },
  {
   "cell_type": "code",
   "execution_count": 42,
   "metadata": {},
   "outputs": [],
   "source": [
    "df_pandas.to_csv('pernoctaciones.csv', index=False)"
   ]
  }
 ],
 "metadata": {
  "kernelspec": {
   "display_name": "cf_ml",
   "language": "python",
   "name": "python3"
  },
  "language_info": {
   "codemirror_mode": {
    "name": "ipython",
    "version": 3
   },
   "file_extension": ".py",
   "mimetype": "text/x-python",
   "name": "python",
   "nbconvert_exporter": "python",
   "pygments_lexer": "ipython3",
   "version": "3.12.0"
  }
 },
 "nbformat": 4,
 "nbformat_minor": 2
}
