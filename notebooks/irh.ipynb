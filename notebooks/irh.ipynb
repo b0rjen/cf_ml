{
 "cells": [
  {
   "cell_type": "code",
   "execution_count": 1,
   "metadata": {},
   "outputs": [],
   "source": [
    "import pandas as pd\n",
    "import numpy as np\n",
    "import polars as pl"
   ]
  },
  {
   "cell_type": "code",
   "execution_count": null,
   "metadata": {},
   "outputs": [],
   "source": [
    "# vamos a trabajar el dataframe con pandas y con polars"
   ]
  },
  {
   "cell_type": "code",
   "execution_count": 2,
   "metadata": {},
   "outputs": [],
   "source": [
    "df = pd.read_excel('../data/ind_rentabilidad_hotelera_ccaa.xlsx', engine='openpyxl')"
   ]
  },
  {
   "cell_type": "code",
   "execution_count": 4,
   "metadata": {},
   "outputs": [],
   "source": [
    "dfp = pl.from_pandas(df) # obviamente también se puede dfp = pl.read_excel('../data/ind_rentabilidad_hotelera_ccaa.xlsx')"
   ]
  },
  {
   "cell_type": "code",
   "execution_count": 3,
   "metadata": {},
   "outputs": [
    {
     "data": {
      "text/html": [
       "<div>\n",
       "<style scoped>\n",
       "    .dataframe tbody tr th:only-of-type {\n",
       "        vertical-align: middle;\n",
       "    }\n",
       "\n",
       "    .dataframe tbody tr th {\n",
       "        vertical-align: top;\n",
       "    }\n",
       "\n",
       "    .dataframe thead th {\n",
       "        text-align: right;\n",
       "    }\n",
       "</style>\n",
       "<table border=\"1\" class=\"dataframe\">\n",
       "  <thead>\n",
       "    <tr style=\"text-align: right;\">\n",
       "      <th></th>\n",
       "      <th>AÑO</th>\n",
       "      <th>MES</th>\n",
       "      <th>CCAA</th>\n",
       "      <th>INDICADOR_ADR</th>\n",
       "      <th>TASA_VARIACION_ADR</th>\n",
       "      <th>INDICADOR_RVPAR</th>\n",
       "      <th>TASA_VARIACION_RVPAR</th>\n",
       "    </tr>\n",
       "  </thead>\n",
       "  <tbody>\n",
       "    <tr>\n",
       "      <th>0</th>\n",
       "      <td>2008</td>\n",
       "      <td>1</td>\n",
       "      <td>Región de Murcia</td>\n",
       "      <td>64.63</td>\n",
       "      <td>0.00</td>\n",
       "      <td>22.76</td>\n",
       "      <td>0.00</td>\n",
       "    </tr>\n",
       "    <tr>\n",
       "      <th>1</th>\n",
       "      <td>2008</td>\n",
       "      <td>2</td>\n",
       "      <td>Región de Murcia</td>\n",
       "      <td>62.72</td>\n",
       "      <td>0.00</td>\n",
       "      <td>30.23</td>\n",
       "      <td>0.00</td>\n",
       "    </tr>\n",
       "    <tr>\n",
       "      <th>2</th>\n",
       "      <td>2008</td>\n",
       "      <td>3</td>\n",
       "      <td>Región de Murcia</td>\n",
       "      <td>63.76</td>\n",
       "      <td>0.00</td>\n",
       "      <td>32.53</td>\n",
       "      <td>0.00</td>\n",
       "    </tr>\n",
       "    <tr>\n",
       "      <th>3</th>\n",
       "      <td>2008</td>\n",
       "      <td>4</td>\n",
       "      <td>Región de Murcia</td>\n",
       "      <td>63.42</td>\n",
       "      <td>0.00</td>\n",
       "      <td>29.43</td>\n",
       "      <td>0.00</td>\n",
       "    </tr>\n",
       "    <tr>\n",
       "      <th>4</th>\n",
       "      <td>2008</td>\n",
       "      <td>5</td>\n",
       "      <td>Región de Murcia</td>\n",
       "      <td>62.95</td>\n",
       "      <td>0.00</td>\n",
       "      <td>31.59</td>\n",
       "      <td>0.00</td>\n",
       "    </tr>\n",
       "    <tr>\n",
       "      <th>5</th>\n",
       "      <td>2008</td>\n",
       "      <td>6</td>\n",
       "      <td>Región de Murcia</td>\n",
       "      <td>67.74</td>\n",
       "      <td>0.00</td>\n",
       "      <td>33.65</td>\n",
       "      <td>0.00</td>\n",
       "    </tr>\n",
       "    <tr>\n",
       "      <th>6</th>\n",
       "      <td>2008</td>\n",
       "      <td>7</td>\n",
       "      <td>Región de Murcia</td>\n",
       "      <td>78.89</td>\n",
       "      <td>0.00</td>\n",
       "      <td>42.21</td>\n",
       "      <td>0.00</td>\n",
       "    </tr>\n",
       "    <tr>\n",
       "      <th>7</th>\n",
       "      <td>2008</td>\n",
       "      <td>8</td>\n",
       "      <td>Región de Murcia</td>\n",
       "      <td>85.51</td>\n",
       "      <td>0.00</td>\n",
       "      <td>48.16</td>\n",
       "      <td>0.00</td>\n",
       "    </tr>\n",
       "    <tr>\n",
       "      <th>8</th>\n",
       "      <td>2008</td>\n",
       "      <td>9</td>\n",
       "      <td>Región de Murcia</td>\n",
       "      <td>72.69</td>\n",
       "      <td>0.00</td>\n",
       "      <td>38.24</td>\n",
       "      <td>0.00</td>\n",
       "    </tr>\n",
       "    <tr>\n",
       "      <th>9</th>\n",
       "      <td>2008</td>\n",
       "      <td>10</td>\n",
       "      <td>Región de Murcia</td>\n",
       "      <td>67.20</td>\n",
       "      <td>0.00</td>\n",
       "      <td>33.00</td>\n",
       "      <td>0.00</td>\n",
       "    </tr>\n",
       "    <tr>\n",
       "      <th>10</th>\n",
       "      <td>2008</td>\n",
       "      <td>11</td>\n",
       "      <td>Región de Murcia</td>\n",
       "      <td>66.09</td>\n",
       "      <td>0.00</td>\n",
       "      <td>27.83</td>\n",
       "      <td>0.00</td>\n",
       "    </tr>\n",
       "    <tr>\n",
       "      <th>11</th>\n",
       "      <td>2008</td>\n",
       "      <td>12</td>\n",
       "      <td>Región de Murcia</td>\n",
       "      <td>67.59</td>\n",
       "      <td>0.00</td>\n",
       "      <td>20.19</td>\n",
       "      <td>0.00</td>\n",
       "    </tr>\n",
       "    <tr>\n",
       "      <th>12</th>\n",
       "      <td>2009</td>\n",
       "      <td>1</td>\n",
       "      <td>Región de Murcia</td>\n",
       "      <td>62.76</td>\n",
       "      <td>-2.90</td>\n",
       "      <td>19.11</td>\n",
       "      <td>-16.03</td>\n",
       "    </tr>\n",
       "    <tr>\n",
       "      <th>13</th>\n",
       "      <td>2009</td>\n",
       "      <td>2</td>\n",
       "      <td>Región de Murcia</td>\n",
       "      <td>62.12</td>\n",
       "      <td>-0.96</td>\n",
       "      <td>25.12</td>\n",
       "      <td>-16.91</td>\n",
       "    </tr>\n",
       "    <tr>\n",
       "      <th>14</th>\n",
       "      <td>2009</td>\n",
       "      <td>3</td>\n",
       "      <td>Región de Murcia</td>\n",
       "      <td>62.96</td>\n",
       "      <td>-1.25</td>\n",
       "      <td>29.22</td>\n",
       "      <td>-10.17</td>\n",
       "    </tr>\n",
       "    <tr>\n",
       "      <th>15</th>\n",
       "      <td>2009</td>\n",
       "      <td>4</td>\n",
       "      <td>Región de Murcia</td>\n",
       "      <td>61.04</td>\n",
       "      <td>-3.75</td>\n",
       "      <td>27.62</td>\n",
       "      <td>-6.15</td>\n",
       "    </tr>\n",
       "    <tr>\n",
       "      <th>16</th>\n",
       "      <td>2009</td>\n",
       "      <td>5</td>\n",
       "      <td>Región de Murcia</td>\n",
       "      <td>60.70</td>\n",
       "      <td>-3.58</td>\n",
       "      <td>29.55</td>\n",
       "      <td>-6.47</td>\n",
       "    </tr>\n",
       "    <tr>\n",
       "      <th>17</th>\n",
       "      <td>2009</td>\n",
       "      <td>6</td>\n",
       "      <td>Región de Murcia</td>\n",
       "      <td>61.88</td>\n",
       "      <td>-8.65</td>\n",
       "      <td>28.68</td>\n",
       "      <td>-14.78</td>\n",
       "    </tr>\n",
       "    <tr>\n",
       "      <th>18</th>\n",
       "      <td>2009</td>\n",
       "      <td>7</td>\n",
       "      <td>Región de Murcia</td>\n",
       "      <td>74.48</td>\n",
       "      <td>-5.59</td>\n",
       "      <td>36.50</td>\n",
       "      <td>-13.53</td>\n",
       "    </tr>\n",
       "    <tr>\n",
       "      <th>19</th>\n",
       "      <td>2009</td>\n",
       "      <td>8</td>\n",
       "      <td>Región de Murcia</td>\n",
       "      <td>81.42</td>\n",
       "      <td>-4.79</td>\n",
       "      <td>41.29</td>\n",
       "      <td>-14.26</td>\n",
       "    </tr>\n",
       "  </tbody>\n",
       "</table>\n",
       "</div>"
      ],
      "text/plain": [
       "     AÑO  MES              CCAA  INDICADOR_ADR  TASA_VARIACION_ADR  \\\n",
       "0   2008    1  Región de Murcia          64.63                0.00   \n",
       "1   2008    2  Región de Murcia          62.72                0.00   \n",
       "2   2008    3  Región de Murcia          63.76                0.00   \n",
       "3   2008    4  Región de Murcia          63.42                0.00   \n",
       "4   2008    5  Región de Murcia          62.95                0.00   \n",
       "5   2008    6  Región de Murcia          67.74                0.00   \n",
       "6   2008    7  Región de Murcia          78.89                0.00   \n",
       "7   2008    8  Región de Murcia          85.51                0.00   \n",
       "8   2008    9  Región de Murcia          72.69                0.00   \n",
       "9   2008   10  Región de Murcia          67.20                0.00   \n",
       "10  2008   11  Región de Murcia          66.09                0.00   \n",
       "11  2008   12  Región de Murcia          67.59                0.00   \n",
       "12  2009    1  Región de Murcia          62.76               -2.90   \n",
       "13  2009    2  Región de Murcia          62.12               -0.96   \n",
       "14  2009    3  Región de Murcia          62.96               -1.25   \n",
       "15  2009    4  Región de Murcia          61.04               -3.75   \n",
       "16  2009    5  Región de Murcia          60.70               -3.58   \n",
       "17  2009    6  Región de Murcia          61.88               -8.65   \n",
       "18  2009    7  Región de Murcia          74.48               -5.59   \n",
       "19  2009    8  Región de Murcia          81.42               -4.79   \n",
       "\n",
       "    INDICADOR_RVPAR  TASA_VARIACION_RVPAR  \n",
       "0             22.76                  0.00  \n",
       "1             30.23                  0.00  \n",
       "2             32.53                  0.00  \n",
       "3             29.43                  0.00  \n",
       "4             31.59                  0.00  \n",
       "5             33.65                  0.00  \n",
       "6             42.21                  0.00  \n",
       "7             48.16                  0.00  \n",
       "8             38.24                  0.00  \n",
       "9             33.00                  0.00  \n",
       "10            27.83                  0.00  \n",
       "11            20.19                  0.00  \n",
       "12            19.11                -16.03  \n",
       "13            25.12                -16.91  \n",
       "14            29.22                -10.17  \n",
       "15            27.62                 -6.15  \n",
       "16            29.55                 -6.47  \n",
       "17            28.68                -14.78  \n",
       "18            36.50                -13.53  \n",
       "19            41.29                -14.26  "
      ]
     },
     "execution_count": 3,
     "metadata": {},
     "output_type": "execute_result"
    }
   ],
   "source": [
    "df.head(20)"
   ]
  },
  {
   "cell_type": "code",
   "execution_count": 6,
   "metadata": {},
   "outputs": [
    {
     "name": "stdout",
     "output_type": "stream",
     "text": [
      "<bound method DataFrame.head of shape: (191, 7)\n",
      "┌──────┬─────┬───────────┬───────────────┬───────────────────┬──────────────────┬──────────────────┐\n",
      "│ AÑO  ┆ MES ┆ CCAA      ┆ INDICADOR_ADR ┆ TASA_VARIACION_AD ┆ INDICADOR_RVPAR  ┆ TASA_VARIACION_R │\n",
      "│ ---  ┆ --- ┆ ---       ┆ ---           ┆ R                 ┆ ---              ┆ VPAR             │\n",
      "│ i64  ┆ i64 ┆ str       ┆ f64           ┆ ---               ┆ f64              ┆ ---              │\n",
      "│      ┆     ┆           ┆               ┆ f64               ┆                  ┆ f64              │\n",
      "╞══════╪═════╪═══════════╪═══════════════╪═══════════════════╪══════════════════╪══════════════════╡\n",
      "│ 2008 ┆ 1   ┆ Región de ┆ 64.63         ┆ 0.0               ┆ 22.76            ┆ 0.0              │\n",
      "│      ┆     ┆ Murcia    ┆               ┆                   ┆                  ┆                  │\n",
      "│ 2008 ┆ 2   ┆ Región de ┆ 62.72         ┆ 0.0               ┆ 30.23            ┆ 0.0              │\n",
      "│      ┆     ┆ Murcia    ┆               ┆                   ┆                  ┆                  │\n",
      "│ 2008 ┆ 3   ┆ Región de ┆ 63.76         ┆ 0.0               ┆ 32.53            ┆ 0.0              │\n",
      "│      ┆     ┆ Murcia    ┆               ┆                   ┆                  ┆                  │\n",
      "│ 2008 ┆ 4   ┆ Región de ┆ 63.42         ┆ 0.0               ┆ 29.43            ┆ 0.0              │\n",
      "│      ┆     ┆ Murcia    ┆               ┆                   ┆                  ┆                  │\n",
      "│ 2008 ┆ 5   ┆ Región de ┆ 62.95         ┆ 0.0               ┆ 31.59            ┆ 0.0              │\n",
      "│      ┆     ┆ Murcia    ┆               ┆                   ┆                  ┆                  │\n",
      "│ …    ┆ …   ┆ …         ┆ …             ┆ …                 ┆ …                ┆ …                │\n",
      "│ 2023 ┆ 7   ┆ Región de ┆ 87.64         ┆ 6.38              ┆ 53.64            ┆ 6.07             │\n",
      "│      ┆     ┆ Murcia    ┆               ┆                   ┆                  ┆                  │\n",
      "│ 2023 ┆ 8   ┆ Región de ┆ 92.66         ┆ 4.34              ┆ 62.11            ┆ 1.82             │\n",
      "│      ┆     ┆ Murcia    ┆               ┆                   ┆                  ┆                  │\n",
      "│ 2023 ┆ 9   ┆ Región de ┆ 74.58         ┆ 10.2              ┆ 44.88            ┆ 14.43            │\n",
      "│      ┆     ┆ Murcia    ┆               ┆                   ┆                  ┆                  │\n",
      "│ 2023 ┆ 10  ┆ Región de ┆ 66.06         ┆ 9.33              ┆ 34.93            ┆ 5.55             │\n",
      "│      ┆     ┆ Murcia    ┆               ┆                   ┆                  ┆                  │\n",
      "│ 2023 ┆ 11  ┆ Región de ┆ 64.17         ┆ 11.61             ┆ 33.81            ┆ 19.14            │\n",
      "│      ┆     ┆ Murcia    ┆               ┆                   ┆                  ┆                  │\n",
      "└──────┴─────┴───────────┴───────────────┴───────────────────┴──────────────────┴──────────────────┘>\n"
     ]
    }
   ],
   "source": [
    "print(dfp.head)"
   ]
  },
  {
   "cell_type": "markdown",
   "metadata": {},
   "source": [
    "Glosario sobre el dataset:  \n",
    "\n",
    "RevPAR: Ingresos por habitación disponible. Se calcula dividiendo los ingresos totales por habitaciones por el número de habitaciones disponibles.  \n",
    "\n",
    "ADR: Tarifa media diaria. Se calcula dividiendo los ingresos totales por habitaciones por el número de habitaciones ocupadas.  \n",
    "\n",
    "Como vemos, se añade en el dataset la tasa de variación de ambos valores"
   ]
  },
  {
   "cell_type": "code",
   "execution_count": 7,
   "metadata": {},
   "outputs": [
    {
     "data": {
      "text/plain": [
       "AÑO                       int64\n",
       "MES                       int64\n",
       "CCAA                     object\n",
       "INDICADOR_ADR           float64\n",
       "TASA_VARIACION_ADR      float64\n",
       "INDICADOR_RVPAR         float64\n",
       "TASA_VARIACION_RVPAR    float64\n",
       "dtype: object"
      ]
     },
     "execution_count": 7,
     "metadata": {},
     "output_type": "execute_result"
    }
   ],
   "source": [
    "df.dtypes"
   ]
  },
  {
   "cell_type": "code",
   "execution_count": 9,
   "metadata": {},
   "outputs": [
    {
     "name": "stdout",
     "output_type": "stream",
     "text": [
      "[Int64, Int64, String, Float64, Float64, Float64, Float64]\n"
     ]
    }
   ],
   "source": [
    "print(dfp.dtypes)"
   ]
  },
  {
   "cell_type": "code",
   "execution_count": 10,
   "metadata": {},
   "outputs": [],
   "source": [
    "df = df.drop(columns=['CCAA']) # o lo que es lo mismo df = df.drop('CCAA', axis=1)"
   ]
  },
  {
   "cell_type": "code",
   "execution_count": 11,
   "metadata": {},
   "outputs": [],
   "source": [
    "dfp = dfp.drop('CCAA')"
   ]
  },
  {
   "cell_type": "code",
   "execution_count": 12,
   "metadata": {},
   "outputs": [
    {
     "data": {
      "text/plain": [
       "AÑO                     0\n",
       "MES                     0\n",
       "INDICADOR_ADR           0\n",
       "TASA_VARIACION_ADR      0\n",
       "INDICADOR_RVPAR         0\n",
       "TASA_VARIACION_RVPAR    0\n",
       "dtype: int64"
      ]
     },
     "execution_count": 12,
     "metadata": {},
     "output_type": "execute_result"
    }
   ],
   "source": [
    "df.isnull().sum()"
   ]
  },
  {
   "cell_type": "code",
   "execution_count": 14,
   "metadata": {},
   "outputs": [],
   "source": [
    "# vamos a complicar un poco el código para hacer conteo de nulos\n",
    "null_counts = dfp.with_columns([pl.col(column).is_null().sum().alias(f\"{column}_null_count\") for column in dfp.columns])\n"
   ]
  },
  {
   "cell_type": "code",
   "execution_count": 15,
   "metadata": {},
   "outputs": [
    {
     "name": "stdout",
     "output_type": "stream",
     "text": [
      "AÑO null count: shape: (1, 1)\n",
      "┌─────┐\n",
      "│ AÑO │\n",
      "│ --- │\n",
      "│ u32 │\n",
      "╞═════╡\n",
      "│ 0   │\n",
      "└─────┘\n",
      "MES null count: shape: (1, 1)\n",
      "┌─────┐\n",
      "│ MES │\n",
      "│ --- │\n",
      "│ u32 │\n",
      "╞═════╡\n",
      "│ 0   │\n",
      "└─────┘\n",
      "INDICADOR_ADR null count: shape: (1, 1)\n",
      "┌───────────────┐\n",
      "│ INDICADOR_ADR │\n",
      "│ ---           │\n",
      "│ u32           │\n",
      "╞═══════════════╡\n",
      "│ 0             │\n",
      "└───────────────┘\n",
      "TASA_VARIACION_ADR null count: shape: (1, 1)\n",
      "┌────────────────────┐\n",
      "│ TASA_VARIACION_ADR │\n",
      "│ ---                │\n",
      "│ u32                │\n",
      "╞════════════════════╡\n",
      "│ 0                  │\n",
      "└────────────────────┘\n",
      "INDICADOR_RVPAR null count: shape: (1, 1)\n",
      "┌─────────────────┐\n",
      "│ INDICADOR_RVPAR │\n",
      "│ ---             │\n",
      "│ u32             │\n",
      "╞═════════════════╡\n",
      "│ 0               │\n",
      "└─────────────────┘\n",
      "TASA_VARIACION_RVPAR null count: shape: (1, 1)\n",
      "┌──────────────────────┐\n",
      "│ TASA_VARIACION_RVPAR │\n",
      "│ ---                  │\n",
      "│ u32                  │\n",
      "╞══════════════════════╡\n",
      "│ 0                    │\n",
      "└──────────────────────┘\n"
     ]
    }
   ],
   "source": [
    "for column in dfp.columns:\n",
    "    print(f\"{column} null count: {dfp.select(pl.col(column).is_null().sum())}\")"
   ]
  },
  {
   "cell_type": "code",
   "execution_count": 16,
   "metadata": {},
   "outputs": [
    {
     "name": "stdout",
     "output_type": "stream",
     "text": [
      "AÑO\n",
      "2008    12\n",
      "2009    12\n",
      "2010    12\n",
      "2011    12\n",
      "2012    12\n",
      "2013    12\n",
      "2014    12\n",
      "2015    12\n",
      "2016    12\n",
      "2017    12\n",
      "2018    12\n",
      "2019    12\n",
      "2020    12\n",
      "2021    12\n",
      "2022    12\n",
      "2023    11\n",
      "Name: MES, dtype: int64\n"
     ]
    }
   ],
   "source": [
    "# vamos a ver si faltan datos en las fechas\n",
    "# vemos si faltan meses\n",
    "conteo_meses_por_año = df.groupby('AÑO')['MES'].nunique()\n",
    "\n",
    "print(conteo_meses_por_año)\n"
   ]
  }
 ],
 "metadata": {
  "kernelspec": {
   "display_name": "ML_CF",
   "language": "python",
   "name": "python3"
  },
  "language_info": {
   "codemirror_mode": {
    "name": "ipython",
    "version": 3
   },
   "file_extension": ".py",
   "mimetype": "text/x-python",
   "name": "python",
   "nbconvert_exporter": "python",
   "pygments_lexer": "ipython3",
   "version": "3.9.13"
  }
 },
 "nbformat": 4,
 "nbformat_minor": 2
}
