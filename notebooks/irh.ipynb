{
 "cells": [
  {
   "cell_type": "code",
   "execution_count": 1,
   "metadata": {},
   "outputs": [],
   "source": [
    "import pandas as pd\n",
    "import numpy as np\n",
    "import polars as pl"
   ]
  },
  {
   "cell_type": "code",
   "execution_count": null,
   "metadata": {},
   "outputs": [],
   "source": [
    "# vamos a trabajar el dataframe con pandas y con polars"
   ]
  },
  {
   "cell_type": "code",
   "execution_count": 34,
   "metadata": {},
   "outputs": [],
   "source": [
    "df = pd.read_excel('../data/ind_rentabilidad_hotelera_ccaa.xlsx', engine='openpyxl')"
   ]
  },
  {
   "cell_type": "code",
   "execution_count": 3,
   "metadata": {},
   "outputs": [],
   "source": [
    "dfp = pl.from_pandas(df) # obviamente también se puede dfp = pl.read_excel('../data/ind_rentabilidad_hotelera_ccaa.xlsx')"
   ]
  },
  {
   "cell_type": "code",
   "execution_count": 35,
   "metadata": {},
   "outputs": [
    {
     "data": {
      "text/html": [
       "<div>\n",
       "<style scoped>\n",
       "    .dataframe tbody tr th:only-of-type {\n",
       "        vertical-align: middle;\n",
       "    }\n",
       "\n",
       "    .dataframe tbody tr th {\n",
       "        vertical-align: top;\n",
       "    }\n",
       "\n",
       "    .dataframe thead th {\n",
       "        text-align: right;\n",
       "    }\n",
       "</style>\n",
       "<table border=\"1\" class=\"dataframe\">\n",
       "  <thead>\n",
       "    <tr style=\"text-align: right;\">\n",
       "      <th></th>\n",
       "      <th>AÑO</th>\n",
       "      <th>MES</th>\n",
       "      <th>CCAA</th>\n",
       "      <th>INDICADOR_ADR</th>\n",
       "      <th>TASA_VARIACION_ADR</th>\n",
       "      <th>INDICADOR_RVPAR</th>\n",
       "      <th>TASA_VARIACION_RVPAR</th>\n",
       "    </tr>\n",
       "  </thead>\n",
       "  <tbody>\n",
       "    <tr>\n",
       "      <th>0</th>\n",
       "      <td>2008</td>\n",
       "      <td>1</td>\n",
       "      <td>Región de Murcia</td>\n",
       "      <td>64.63</td>\n",
       "      <td>0.00</td>\n",
       "      <td>22.76</td>\n",
       "      <td>0.00</td>\n",
       "    </tr>\n",
       "    <tr>\n",
       "      <th>1</th>\n",
       "      <td>2008</td>\n",
       "      <td>2</td>\n",
       "      <td>Región de Murcia</td>\n",
       "      <td>62.72</td>\n",
       "      <td>0.00</td>\n",
       "      <td>30.23</td>\n",
       "      <td>0.00</td>\n",
       "    </tr>\n",
       "    <tr>\n",
       "      <th>2</th>\n",
       "      <td>2008</td>\n",
       "      <td>3</td>\n",
       "      <td>Región de Murcia</td>\n",
       "      <td>63.76</td>\n",
       "      <td>0.00</td>\n",
       "      <td>32.53</td>\n",
       "      <td>0.00</td>\n",
       "    </tr>\n",
       "    <tr>\n",
       "      <th>3</th>\n",
       "      <td>2008</td>\n",
       "      <td>4</td>\n",
       "      <td>Región de Murcia</td>\n",
       "      <td>63.42</td>\n",
       "      <td>0.00</td>\n",
       "      <td>29.43</td>\n",
       "      <td>0.00</td>\n",
       "    </tr>\n",
       "    <tr>\n",
       "      <th>4</th>\n",
       "      <td>2008</td>\n",
       "      <td>5</td>\n",
       "      <td>Región de Murcia</td>\n",
       "      <td>62.95</td>\n",
       "      <td>0.00</td>\n",
       "      <td>31.59</td>\n",
       "      <td>0.00</td>\n",
       "    </tr>\n",
       "    <tr>\n",
       "      <th>5</th>\n",
       "      <td>2008</td>\n",
       "      <td>6</td>\n",
       "      <td>Región de Murcia</td>\n",
       "      <td>67.74</td>\n",
       "      <td>0.00</td>\n",
       "      <td>33.65</td>\n",
       "      <td>0.00</td>\n",
       "    </tr>\n",
       "    <tr>\n",
       "      <th>6</th>\n",
       "      <td>2008</td>\n",
       "      <td>7</td>\n",
       "      <td>Región de Murcia</td>\n",
       "      <td>78.89</td>\n",
       "      <td>0.00</td>\n",
       "      <td>42.21</td>\n",
       "      <td>0.00</td>\n",
       "    </tr>\n",
       "    <tr>\n",
       "      <th>7</th>\n",
       "      <td>2008</td>\n",
       "      <td>8</td>\n",
       "      <td>Región de Murcia</td>\n",
       "      <td>85.51</td>\n",
       "      <td>0.00</td>\n",
       "      <td>48.16</td>\n",
       "      <td>0.00</td>\n",
       "    </tr>\n",
       "    <tr>\n",
       "      <th>8</th>\n",
       "      <td>2008</td>\n",
       "      <td>9</td>\n",
       "      <td>Región de Murcia</td>\n",
       "      <td>72.69</td>\n",
       "      <td>0.00</td>\n",
       "      <td>38.24</td>\n",
       "      <td>0.00</td>\n",
       "    </tr>\n",
       "    <tr>\n",
       "      <th>9</th>\n",
       "      <td>2008</td>\n",
       "      <td>10</td>\n",
       "      <td>Región de Murcia</td>\n",
       "      <td>67.20</td>\n",
       "      <td>0.00</td>\n",
       "      <td>33.00</td>\n",
       "      <td>0.00</td>\n",
       "    </tr>\n",
       "    <tr>\n",
       "      <th>10</th>\n",
       "      <td>2008</td>\n",
       "      <td>11</td>\n",
       "      <td>Región de Murcia</td>\n",
       "      <td>66.09</td>\n",
       "      <td>0.00</td>\n",
       "      <td>27.83</td>\n",
       "      <td>0.00</td>\n",
       "    </tr>\n",
       "    <tr>\n",
       "      <th>11</th>\n",
       "      <td>2008</td>\n",
       "      <td>12</td>\n",
       "      <td>Región de Murcia</td>\n",
       "      <td>67.59</td>\n",
       "      <td>0.00</td>\n",
       "      <td>20.19</td>\n",
       "      <td>0.00</td>\n",
       "    </tr>\n",
       "    <tr>\n",
       "      <th>12</th>\n",
       "      <td>2009</td>\n",
       "      <td>1</td>\n",
       "      <td>Región de Murcia</td>\n",
       "      <td>62.76</td>\n",
       "      <td>-2.90</td>\n",
       "      <td>19.11</td>\n",
       "      <td>-16.03</td>\n",
       "    </tr>\n",
       "    <tr>\n",
       "      <th>13</th>\n",
       "      <td>2009</td>\n",
       "      <td>2</td>\n",
       "      <td>Región de Murcia</td>\n",
       "      <td>62.12</td>\n",
       "      <td>-0.96</td>\n",
       "      <td>25.12</td>\n",
       "      <td>-16.91</td>\n",
       "    </tr>\n",
       "    <tr>\n",
       "      <th>14</th>\n",
       "      <td>2009</td>\n",
       "      <td>3</td>\n",
       "      <td>Región de Murcia</td>\n",
       "      <td>62.96</td>\n",
       "      <td>-1.25</td>\n",
       "      <td>29.22</td>\n",
       "      <td>-10.17</td>\n",
       "    </tr>\n",
       "    <tr>\n",
       "      <th>15</th>\n",
       "      <td>2009</td>\n",
       "      <td>4</td>\n",
       "      <td>Región de Murcia</td>\n",
       "      <td>61.04</td>\n",
       "      <td>-3.75</td>\n",
       "      <td>27.62</td>\n",
       "      <td>-6.15</td>\n",
       "    </tr>\n",
       "    <tr>\n",
       "      <th>16</th>\n",
       "      <td>2009</td>\n",
       "      <td>5</td>\n",
       "      <td>Región de Murcia</td>\n",
       "      <td>60.70</td>\n",
       "      <td>-3.58</td>\n",
       "      <td>29.55</td>\n",
       "      <td>-6.47</td>\n",
       "    </tr>\n",
       "    <tr>\n",
       "      <th>17</th>\n",
       "      <td>2009</td>\n",
       "      <td>6</td>\n",
       "      <td>Región de Murcia</td>\n",
       "      <td>61.88</td>\n",
       "      <td>-8.65</td>\n",
       "      <td>28.68</td>\n",
       "      <td>-14.78</td>\n",
       "    </tr>\n",
       "    <tr>\n",
       "      <th>18</th>\n",
       "      <td>2009</td>\n",
       "      <td>7</td>\n",
       "      <td>Región de Murcia</td>\n",
       "      <td>74.48</td>\n",
       "      <td>-5.59</td>\n",
       "      <td>36.50</td>\n",
       "      <td>-13.53</td>\n",
       "    </tr>\n",
       "    <tr>\n",
       "      <th>19</th>\n",
       "      <td>2009</td>\n",
       "      <td>8</td>\n",
       "      <td>Región de Murcia</td>\n",
       "      <td>81.42</td>\n",
       "      <td>-4.79</td>\n",
       "      <td>41.29</td>\n",
       "      <td>-14.26</td>\n",
       "    </tr>\n",
       "  </tbody>\n",
       "</table>\n",
       "</div>"
      ],
      "text/plain": [
       "     AÑO  MES              CCAA  INDICADOR_ADR  TASA_VARIACION_ADR  \\\n",
       "0   2008    1  Región de Murcia          64.63                0.00   \n",
       "1   2008    2  Región de Murcia          62.72                0.00   \n",
       "2   2008    3  Región de Murcia          63.76                0.00   \n",
       "3   2008    4  Región de Murcia          63.42                0.00   \n",
       "4   2008    5  Región de Murcia          62.95                0.00   \n",
       "5   2008    6  Región de Murcia          67.74                0.00   \n",
       "6   2008    7  Región de Murcia          78.89                0.00   \n",
       "7   2008    8  Región de Murcia          85.51                0.00   \n",
       "8   2008    9  Región de Murcia          72.69                0.00   \n",
       "9   2008   10  Región de Murcia          67.20                0.00   \n",
       "10  2008   11  Región de Murcia          66.09                0.00   \n",
       "11  2008   12  Región de Murcia          67.59                0.00   \n",
       "12  2009    1  Región de Murcia          62.76               -2.90   \n",
       "13  2009    2  Región de Murcia          62.12               -0.96   \n",
       "14  2009    3  Región de Murcia          62.96               -1.25   \n",
       "15  2009    4  Región de Murcia          61.04               -3.75   \n",
       "16  2009    5  Región de Murcia          60.70               -3.58   \n",
       "17  2009    6  Región de Murcia          61.88               -8.65   \n",
       "18  2009    7  Región de Murcia          74.48               -5.59   \n",
       "19  2009    8  Región de Murcia          81.42               -4.79   \n",
       "\n",
       "    INDICADOR_RVPAR  TASA_VARIACION_RVPAR  \n",
       "0             22.76                  0.00  \n",
       "1             30.23                  0.00  \n",
       "2             32.53                  0.00  \n",
       "3             29.43                  0.00  \n",
       "4             31.59                  0.00  \n",
       "5             33.65                  0.00  \n",
       "6             42.21                  0.00  \n",
       "7             48.16                  0.00  \n",
       "8             38.24                  0.00  \n",
       "9             33.00                  0.00  \n",
       "10            27.83                  0.00  \n",
       "11            20.19                  0.00  \n",
       "12            19.11                -16.03  \n",
       "13            25.12                -16.91  \n",
       "14            29.22                -10.17  \n",
       "15            27.62                 -6.15  \n",
       "16            29.55                 -6.47  \n",
       "17            28.68                -14.78  \n",
       "18            36.50                -13.53  \n",
       "19            41.29                -14.26  "
      ]
     },
     "execution_count": 35,
     "metadata": {},
     "output_type": "execute_result"
    }
   ],
   "source": [
    "df.head(20)"
   ]
  },
  {
   "cell_type": "code",
   "execution_count": 5,
   "metadata": {},
   "outputs": [
    {
     "name": "stdout",
     "output_type": "stream",
     "text": [
      "<bound method DataFrame.head of shape: (191, 7)\n",
      "┌──────┬─────┬───────────┬───────────────┬───────────────────┬──────────────────┬──────────────────┐\n",
      "│ AÑO  ┆ MES ┆ CCAA      ┆ INDICADOR_ADR ┆ TASA_VARIACION_AD ┆ INDICADOR_RVPAR  ┆ TASA_VARIACION_R │\n",
      "│ ---  ┆ --- ┆ ---       ┆ ---           ┆ R                 ┆ ---              ┆ VPAR             │\n",
      "│ i64  ┆ i64 ┆ str       ┆ f64           ┆ ---               ┆ f64              ┆ ---              │\n",
      "│      ┆     ┆           ┆               ┆ f64               ┆                  ┆ f64              │\n",
      "╞══════╪═════╪═══════════╪═══════════════╪═══════════════════╪══════════════════╪══════════════════╡\n",
      "│ 2008 ┆ 1   ┆ Región de ┆ 64.63         ┆ 0.0               ┆ 22.76            ┆ 0.0              │\n",
      "│      ┆     ┆ Murcia    ┆               ┆                   ┆                  ┆                  │\n",
      "│ 2008 ┆ 2   ┆ Región de ┆ 62.72         ┆ 0.0               ┆ 30.23            ┆ 0.0              │\n",
      "│      ┆     ┆ Murcia    ┆               ┆                   ┆                  ┆                  │\n",
      "│ 2008 ┆ 3   ┆ Región de ┆ 63.76         ┆ 0.0               ┆ 32.53            ┆ 0.0              │\n",
      "│      ┆     ┆ Murcia    ┆               ┆                   ┆                  ┆                  │\n",
      "│ 2008 ┆ 4   ┆ Región de ┆ 63.42         ┆ 0.0               ┆ 29.43            ┆ 0.0              │\n",
      "│      ┆     ┆ Murcia    ┆               ┆                   ┆                  ┆                  │\n",
      "│ 2008 ┆ 5   ┆ Región de ┆ 62.95         ┆ 0.0               ┆ 31.59            ┆ 0.0              │\n",
      "│      ┆     ┆ Murcia    ┆               ┆                   ┆                  ┆                  │\n",
      "│ …    ┆ …   ┆ …         ┆ …             ┆ …                 ┆ …                ┆ …                │\n",
      "│ 2023 ┆ 7   ┆ Región de ┆ 87.64         ┆ 6.38              ┆ 53.64            ┆ 6.07             │\n",
      "│      ┆     ┆ Murcia    ┆               ┆                   ┆                  ┆                  │\n",
      "│ 2023 ┆ 8   ┆ Región de ┆ 92.66         ┆ 4.34              ┆ 62.11            ┆ 1.82             │\n",
      "│      ┆     ┆ Murcia    ┆               ┆                   ┆                  ┆                  │\n",
      "│ 2023 ┆ 9   ┆ Región de ┆ 74.58         ┆ 10.2              ┆ 44.88            ┆ 14.43            │\n",
      "│      ┆     ┆ Murcia    ┆               ┆                   ┆                  ┆                  │\n",
      "│ 2023 ┆ 10  ┆ Región de ┆ 66.06         ┆ 9.33              ┆ 34.93            ┆ 5.55             │\n",
      "│      ┆     ┆ Murcia    ┆               ┆                   ┆                  ┆                  │\n",
      "│ 2023 ┆ 11  ┆ Región de ┆ 64.17         ┆ 11.61             ┆ 33.81            ┆ 19.14            │\n",
      "│      ┆     ┆ Murcia    ┆               ┆                   ┆                  ┆                  │\n",
      "└──────┴─────┴───────────┴───────────────┴───────────────────┴──────────────────┴──────────────────┘>\n"
     ]
    }
   ],
   "source": [
    "print(dfp.head)"
   ]
  },
  {
   "cell_type": "markdown",
   "metadata": {},
   "source": [
    "Glosario sobre el dataset:  \n",
    "\n",
    "RevPAR: Ingresos por habitación disponible. Se calcula dividiendo los ingresos totales por habitaciones por el número de habitaciones disponibles.  \n",
    "\n",
    "ADR: Tarifa media diaria. Se calcula dividiendo los ingresos totales por habitaciones por el número de habitaciones ocupadas.  \n",
    "\n",
    "Como vemos, se añade en el dataset la tasa de variación de ambos valores"
   ]
  },
  {
   "cell_type": "code",
   "execution_count": 36,
   "metadata": {},
   "outputs": [
    {
     "data": {
      "text/plain": [
       "AÑO                       int64\n",
       "MES                       int64\n",
       "CCAA                     object\n",
       "INDICADOR_ADR           float64\n",
       "TASA_VARIACION_ADR      float64\n",
       "INDICADOR_RVPAR         float64\n",
       "TASA_VARIACION_RVPAR    float64\n",
       "dtype: object"
      ]
     },
     "execution_count": 36,
     "metadata": {},
     "output_type": "execute_result"
    }
   ],
   "source": [
    "df.dtypes"
   ]
  },
  {
   "cell_type": "code",
   "execution_count": 7,
   "metadata": {},
   "outputs": [
    {
     "name": "stdout",
     "output_type": "stream",
     "text": [
      "[Int64, Int64, String, Float64, Float64, Float64, Float64]\n"
     ]
    }
   ],
   "source": [
    "print(dfp.dtypes)"
   ]
  },
  {
   "cell_type": "code",
   "execution_count": 37,
   "metadata": {},
   "outputs": [],
   "source": [
    "df = df.drop(columns=['CCAA']) # o lo que es lo mismo df = df.drop('CCAA', axis=1)"
   ]
  },
  {
   "cell_type": "code",
   "execution_count": 9,
   "metadata": {},
   "outputs": [],
   "source": [
    "dfp = dfp.drop('CCAA')"
   ]
  },
  {
   "cell_type": "code",
   "execution_count": 38,
   "metadata": {},
   "outputs": [
    {
     "data": {
      "text/plain": [
       "AÑO                     0\n",
       "MES                     0\n",
       "INDICADOR_ADR           0\n",
       "TASA_VARIACION_ADR      0\n",
       "INDICADOR_RVPAR         0\n",
       "TASA_VARIACION_RVPAR    0\n",
       "dtype: int64"
      ]
     },
     "execution_count": 38,
     "metadata": {},
     "output_type": "execute_result"
    }
   ],
   "source": [
    "df.isnull().sum()"
   ]
  },
  {
   "cell_type": "code",
   "execution_count": 11,
   "metadata": {},
   "outputs": [],
   "source": [
    "# polars - vamos a complicar un poco el código para hacer conteo de nulos\n",
    "null_counts = dfp.with_columns([pl.col(column).is_null().sum().alias(f\"{column}_null_count\") for column in dfp.columns])\n"
   ]
  },
  {
   "cell_type": "code",
   "execution_count": 12,
   "metadata": {},
   "outputs": [
    {
     "name": "stdout",
     "output_type": "stream",
     "text": [
      "AÑO null count: shape: (1, 1)\n",
      "┌─────┐\n",
      "│ AÑO │\n",
      "│ --- │\n",
      "│ u32 │\n",
      "╞═════╡\n",
      "│ 0   │\n",
      "└─────┘\n",
      "MES null count: shape: (1, 1)\n",
      "┌─────┐\n",
      "│ MES │\n",
      "│ --- │\n",
      "│ u32 │\n",
      "╞═════╡\n",
      "│ 0   │\n",
      "└─────┘\n",
      "INDICADOR_ADR null count: shape: (1, 1)\n",
      "┌───────────────┐\n",
      "│ INDICADOR_ADR │\n",
      "│ ---           │\n",
      "│ u32           │\n",
      "╞═══════════════╡\n",
      "│ 0             │\n",
      "└───────────────┘\n",
      "TASA_VARIACION_ADR null count: shape: (1, 1)\n",
      "┌────────────────────┐\n",
      "│ TASA_VARIACION_ADR │\n",
      "│ ---                │\n",
      "│ u32                │\n",
      "╞════════════════════╡\n",
      "│ 0                  │\n",
      "└────────────────────┘\n",
      "INDICADOR_RVPAR null count: shape: (1, 1)\n",
      "┌─────────────────┐\n",
      "│ INDICADOR_RVPAR │\n",
      "│ ---             │\n",
      "│ u32             │\n",
      "╞═════════════════╡\n",
      "│ 0               │\n",
      "└─────────────────┘\n",
      "TASA_VARIACION_RVPAR null count: shape: (1, 1)\n",
      "┌──────────────────────┐\n",
      "│ TASA_VARIACION_RVPAR │\n",
      "│ ---                  │\n",
      "│ u32                  │\n",
      "╞══════════════════════╡\n",
      "│ 0                    │\n",
      "└──────────────────────┘\n"
     ]
    }
   ],
   "source": [
    "for column in dfp.columns:\n",
    "    print(f\"{column} null count: {dfp.select(pl.col(column).is_null().sum())}\")"
   ]
  },
  {
   "cell_type": "code",
   "execution_count": 39,
   "metadata": {},
   "outputs": [
    {
     "name": "stdout",
     "output_type": "stream",
     "text": [
      "AÑO\n",
      "2008    12\n",
      "2009    12\n",
      "2010    12\n",
      "2011    12\n",
      "2012    12\n",
      "2013    12\n",
      "2014    12\n",
      "2015    12\n",
      "2016    12\n",
      "2017    12\n",
      "2018    12\n",
      "2019    12\n",
      "2020    12\n",
      "2021    12\n",
      "2022    12\n",
      "2023    11\n",
      "Name: MES, dtype: int64\n"
     ]
    }
   ],
   "source": [
    "# vamos a ver si faltan datos en las fechas\n",
    "# vemos si faltan meses\n",
    "conteo_meses_por_año = df.groupby('AÑO')['MES'].nunique()\n",
    "\n",
    "print(conteo_meses_por_año)\n"
   ]
  },
  {
   "cell_type": "code",
   "execution_count": 14,
   "metadata": {},
   "outputs": [
    {
     "data": {
      "text/plain": [
       "<bound method DataFrame.head of shape: (191, 6)\n",
       "┌──────┬─────┬───────────────┬────────────────────┬─────────────────┬──────────────────────┐\n",
       "│ AÑO  ┆ MES ┆ INDICADOR_ADR ┆ TASA_VARIACION_ADR ┆ INDICADOR_RVPAR ┆ TASA_VARIACION_RVPAR │\n",
       "│ ---  ┆ --- ┆ ---           ┆ ---                ┆ ---             ┆ ---                  │\n",
       "│ i64  ┆ i64 ┆ f64           ┆ f64                ┆ f64             ┆ f64                  │\n",
       "╞══════╪═════╪═══════════════╪════════════════════╪═════════════════╪══════════════════════╡\n",
       "│ 2008 ┆ 1   ┆ 64.63         ┆ 0.0                ┆ 22.76           ┆ 0.0                  │\n",
       "│ 2008 ┆ 2   ┆ 62.72         ┆ 0.0                ┆ 30.23           ┆ 0.0                  │\n",
       "│ 2008 ┆ 3   ┆ 63.76         ┆ 0.0                ┆ 32.53           ┆ 0.0                  │\n",
       "│ 2008 ┆ 4   ┆ 63.42         ┆ 0.0                ┆ 29.43           ┆ 0.0                  │\n",
       "│ 2008 ┆ 5   ┆ 62.95         ┆ 0.0                ┆ 31.59           ┆ 0.0                  │\n",
       "│ …    ┆ …   ┆ …             ┆ …                  ┆ …               ┆ …                    │\n",
       "│ 2023 ┆ 7   ┆ 87.64         ┆ 6.38               ┆ 53.64           ┆ 6.07                 │\n",
       "│ 2023 ┆ 8   ┆ 92.66         ┆ 4.34               ┆ 62.11           ┆ 1.82                 │\n",
       "│ 2023 ┆ 9   ┆ 74.58         ┆ 10.2               ┆ 44.88           ┆ 14.43                │\n",
       "│ 2023 ┆ 10  ┆ 66.06         ┆ 9.33               ┆ 34.93           ┆ 5.55                 │\n",
       "│ 2023 ┆ 11  ┆ 64.17         ┆ 11.61              ┆ 33.81           ┆ 19.14                │\n",
       "└──────┴─────┴───────────────┴────────────────────┴─────────────────┴──────────────────────┘>"
      ]
     },
     "execution_count": 14,
     "metadata": {},
     "output_type": "execute_result"
    }
   ],
   "source": [
    "dfp.head"
   ]
  },
  {
   "cell_type": "code",
   "execution_count": null,
   "metadata": {},
   "outputs": [],
   "source": [
    "# pandas - vamos a hacer como en otros notebooks, pasar año y mes a una sola columna y pasarlo al index\n"
   ]
  },
  {
   "cell_type": "code",
   "execution_count": 23,
   "metadata": {},
   "outputs": [
    {
     "data": {
      "text/html": [
       "<div><style>\n",
       ".dataframe > thead > tr,\n",
       ".dataframe > tbody > tr {\n",
       "  text-align: right;\n",
       "  white-space: pre-wrap;\n",
       "}\n",
       "</style>\n",
       "<small>shape: (5, 7)</small><table border=\"1\" class=\"dataframe\"><thead><tr><th>AÑO</th><th>MES</th><th>INDICADOR_ADR</th><th>TASA_VARIACION_ADR</th><th>INDICADOR_RVPAR</th><th>TASA_VARIACION_RVPAR</th><th>FECHA</th></tr><tr><td>i64</td><td>i64</td><td>f64</td><td>f64</td><td>f64</td><td>f64</td><td>datetime[μs]</td></tr></thead><tbody><tr><td>2008</td><td>1</td><td>64.63</td><td>0.0</td><td>22.76</td><td>0.0</td><td>2008-01-01 00:00:00</td></tr><tr><td>2008</td><td>2</td><td>62.72</td><td>0.0</td><td>30.23</td><td>0.0</td><td>2008-02-01 00:00:00</td></tr><tr><td>2008</td><td>3</td><td>63.76</td><td>0.0</td><td>32.53</td><td>0.0</td><td>2008-03-01 00:00:00</td></tr><tr><td>2008</td><td>4</td><td>63.42</td><td>0.0</td><td>29.43</td><td>0.0</td><td>2008-04-01 00:00:00</td></tr><tr><td>2008</td><td>5</td><td>62.95</td><td>0.0</td><td>31.59</td><td>0.0</td><td>2008-05-01 00:00:00</td></tr></tbody></table></div>"
      ],
      "text/plain": [
       "shape: (5, 7)\n",
       "┌──────┬─────┬───────────────┬─────────────────┬─────────────────┬────────────────┬────────────────┐\n",
       "│ AÑO  ┆ MES ┆ INDICADOR_ADR ┆ TASA_VARIACION_ ┆ INDICADOR_RVPAR ┆ TASA_VARIACION ┆ FECHA          │\n",
       "│ ---  ┆ --- ┆ ---           ┆ ADR             ┆ ---             ┆ _RVPAR         ┆ ---            │\n",
       "│ i64  ┆ i64 ┆ f64           ┆ ---             ┆ f64             ┆ ---            ┆ datetime[μs]   │\n",
       "│      ┆     ┆               ┆ f64             ┆                 ┆ f64            ┆                │\n",
       "╞══════╪═════╪═══════════════╪═════════════════╪═════════════════╪════════════════╪════════════════╡\n",
       "│ 2008 ┆ 1   ┆ 64.63         ┆ 0.0             ┆ 22.76           ┆ 0.0            ┆ 2008-01-01     │\n",
       "│      ┆     ┆               ┆                 ┆                 ┆                ┆ 00:00:00       │\n",
       "│ 2008 ┆ 2   ┆ 62.72         ┆ 0.0             ┆ 30.23           ┆ 0.0            ┆ 2008-02-01     │\n",
       "│      ┆     ┆               ┆                 ┆                 ┆                ┆ 00:00:00       │\n",
       "│ 2008 ┆ 3   ┆ 63.76         ┆ 0.0             ┆ 32.53           ┆ 0.0            ┆ 2008-03-01     │\n",
       "│      ┆     ┆               ┆                 ┆                 ┆                ┆ 00:00:00       │\n",
       "│ 2008 ┆ 4   ┆ 63.42         ┆ 0.0             ┆ 29.43           ┆ 0.0            ┆ 2008-04-01     │\n",
       "│      ┆     ┆               ┆                 ┆                 ┆                ┆ 00:00:00       │\n",
       "│ 2008 ┆ 5   ┆ 62.95         ┆ 0.0             ┆ 31.59           ┆ 0.0            ┆ 2008-05-01     │\n",
       "│      ┆     ┆               ┆                 ┆                 ┆                ┆ 00:00:00       │\n",
       "└──────┴─────┴───────────────┴─────────────────┴─────────────────┴────────────────┴────────────────┘"
      ]
     },
     "execution_count": 23,
     "metadata": {},
     "output_type": "execute_result"
    }
   ],
   "source": [
    "# polars - vamos a realizar la conversión a datetime de 'AÑO' y 'MES'\n",
    "dfp = dfp.with_columns([\n",
    "    pl.concat_str([\n",
    "        pl.col(\"MES\").cast(str).str.zfill(2),  # Asegura que el mes tenga dos dígitos\n",
    "        pl.lit(\"-\"),\n",
    "        pl.col(\"AÑO\").cast(str),\n",
    "        pl.lit(\"-01\")  # Añadir un día ficticio para completar el formato de fecha\n",
    "    ]).str.strptime(pl.Datetime, \"%m-%Y-%d\").alias(\"FECHA\")\n",
    "])\n",
    "\n",
    "dfp.head(5)"
   ]
  },
  {
   "cell_type": "code",
   "execution_count": 20,
   "metadata": {},
   "outputs": [],
   "source": [
    "# ahora dropeamos 'AÑO' y 'MES'\n",
    "dfp = dfp.drop([\"AÑO\", \"MES\"])"
   ]
  },
  {
   "cell_type": "code",
   "execution_count": 40,
   "metadata": {},
   "outputs": [
    {
     "name": "stdout",
     "output_type": "stream",
     "text": [
      "    AÑO MES  INDICADOR_ADR  TASA_VARIACION_ADR  INDICADOR_RVPAR  \\\n",
      "0  2008  01          64.63                 0.0            22.76   \n",
      "1  2008  02          62.72                 0.0            30.23   \n",
      "2  2008  03          63.76                 0.0            32.53   \n",
      "3  2008  04          63.42                 0.0            29.43   \n",
      "4  2008  05          62.95                 0.0            31.59   \n",
      "\n",
      "   TASA_VARIACION_RVPAR      FECHA  \n",
      "0                   0.0 2008-01-01  \n",
      "1                   0.0 2008-02-01  \n",
      "2                   0.0 2008-03-01  \n",
      "3                   0.0 2008-04-01  \n",
      "4                   0.0 2008-05-01  \n"
     ]
    }
   ],
   "source": [
    "# pandas - vamos a hacer las operaciones para establecer fecha y pasar al index\n",
    "\n",
    "# queremos que las columnas MES y AÑO son de tipo string y que MES tenga dos dígitos\n",
    "df['MES'] = df['MES'].astype(str).str.zfill(2)\n",
    "df['AÑO'] = df['AÑO'].astype(str)\n",
    "\n",
    "# Creamos la nueva columna FECHA usando las columnas MES y AÑO\n",
    "df['FECHA'] = pd.to_datetime(df['MES'] + '-' + df['AÑO'] + '-01', format='%m-%Y-%d')\n",
    "\n",
    "print(df.head(5))"
   ]
  },
  {
   "cell_type": "code",
   "execution_count": 41,
   "metadata": {},
   "outputs": [],
   "source": [
    "# dropeamos año y mes, y pasamos datetime al index\n",
    "df = df.drop(columns=['AÑO','MES'])\n",
    "df.set_index('FECHA', inplace=True)"
   ]
  },
  {
   "cell_type": "code",
   "execution_count": 42,
   "metadata": {},
   "outputs": [
    {
     "name": "stdout",
     "output_type": "stream",
     "text": [
      "            INDICADOR_ADR  TASA_VARIACION_ADR  INDICADOR_RVPAR  \\\n",
      "2008-01-01          64.63                 0.0            22.76   \n",
      "2008-02-01          62.72                 0.0            30.23   \n",
      "2008-03-01          63.76                 0.0            32.53   \n",
      "2008-04-01          63.42                 0.0            29.43   \n",
      "2008-05-01          62.95                 0.0            31.59   \n",
      "\n",
      "            TASA_VARIACION_RVPAR  \n",
      "2008-01-01                   0.0  \n",
      "2008-02-01                   0.0  \n",
      "2008-03-01                   0.0  \n",
      "2008-04-01                   0.0  \n",
      "2008-05-01                   0.0  \n"
     ]
    }
   ],
   "source": [
    "# aunque pandas infiere la frecuencia más adecuada basada en las fechas presentes\n",
    "# para asegurar una frecuencia mensual puedes reindexar el DataFrame con un nuevo rango de fechas si es necesario\n",
    "\n",
    "# Creamos un rango de fechas mensuales desde la fecha mínima hasta la máxima en el índice\n",
    "fecha_inicio = df.index.min()\n",
    "fecha_fin = df.index.max()\n",
    "rango_fechas = pd.date_range(start=fecha_inicio, end=fecha_fin, freq='MS')\n",
    "\n",
    "# Reindexamos el df para asegurar todas las fechas mensuales, opcionalmente llenando valores faltantes\n",
    "df = df.reindex(rango_fechas)\n",
    "\n",
    "# Ahora df tiene un índice de fecha y hora con frecuencia mensual\n",
    "print(df.head())"
   ]
  },
  {
   "cell_type": "code",
   "execution_count": 43,
   "metadata": {},
   "outputs": [
    {
     "data": {
      "text/plain": [
       "INDICADOR_ADR           0\n",
       "TASA_VARIACION_ADR      0\n",
       "INDICADOR_RVPAR         0\n",
       "TASA_VARIACION_RVPAR    0\n",
       "dtype: int64"
      ]
     },
     "execution_count": 43,
     "metadata": {},
     "output_type": "execute_result"
    }
   ],
   "source": [
    "# vamos a asegurarnos que esta reindexación no ha generado valores nulos\n",
    "df.isnull().sum()"
   ]
  },
  {
   "cell_type": "code",
   "execution_count": 44,
   "metadata": {},
   "outputs": [
    {
     "name": "stdout",
     "output_type": "stream",
     "text": [
      "Index(['Indicador Adr', 'Tasa Variacion Adr', 'Indicador Rvpar',\n",
      "       'Tasa Variacion Rvpar'],\n",
      "      dtype='object')\n"
     ]
    }
   ],
   "source": [
    "# ahora renombramos columnas para mejor visualización. vamos a quitar las mayúsculas y quitar el guión bajo\n",
    "def transformar_nombre_columna(col):\n",
    "    return col.replace('_', ' ').title()\n",
    "\n",
    "# Renombramos las columnas usando la función definida\n",
    "df.rename(columns=lambda x: transformar_nombre_columna(x), inplace=True)\n",
    "\n",
    "# vemos los nuevos nombres de las columnas\n",
    "print(df.columns)\n"
   ]
  },
  {
   "cell_type": "code",
   "execution_count": 45,
   "metadata": {},
   "outputs": [],
   "source": [
    "# vamos a graficar los indicadores: Indicador Adr. Según observamos en el glosario de términos turísticos:\n",
    "# El indicador ADR (Average Daily Rate o Tarifa Media Diaria) esla estimación de la tarifa media diaria de una habitación doble con baño, \n",
    "# sin incluir impuestos ni ningún otro servicio, en los hoteles de España.\n",
    "# El ADR se calcula dividiendo los ingresos totales por habitaciones por el número de habitaciones ocupadas. Es decir:\n",
    "# ADR = Ingresos totales por habitaciones / Habitaciones ocupadas\n",
    "# El ADR es un indicador importante de la rentabilidad hotelera, ya que mide la capacidad de los hoteles para generar \n",
    "# ingresos por habitación ocupada. Un ADR alto puede indicar que un hotel está siendo eficiente en la gestión de sus precios o que está \n",
    "# ubicado en un mercado con una alta demanda de alojamiento.\n",
    "# El ADR se utiliza junto con otros indicadores, como el RevPAR (Ingresos por Habitación Disponible) y la Ocupación, para calcular el índice \n",
    "# de rentabilidad hotelera."
   ]
  },
  {
   "cell_type": "code",
   "execution_count": 46,
   "metadata": {},
   "outputs": [],
   "source": [
    "import matplotlib.pyplot as plt"
   ]
  },
  {
   "cell_type": "code",
   "execution_count": 50,
   "metadata": {},
   "outputs": [
    {
     "data": {
      "image/png": "[encoded data removed]",
      "text/plain": [
       "<Figure size 1400x800 with 2 Axes>"
      ]
     },
     "metadata": {},
     "output_type": "display_data"
    }
   ],
   "source": [
    "# Creamos figura y eje\n",
    "fig, ax1 = plt.subplots(figsize=(14,8))\n",
    "\n",
    "# Configuramos el eje x para el tiempo (index)\n",
    "ax1.set_xlabel('')\n",
    "ax1.set_ylabel('', color='#2d8bba')\n",
    "\n",
    "# Graficamos \"Indicador Adr\" en el primer eje y\n",
    "line1 = ax1.plot(df.index, df['Indicador Adr'], label='Indicador Adr', color='#2d8bba')\n",
    "\n",
    "# Segundo eje y que comparte el mismo eje x\n",
    "ax2 = ax1.twinx()  \n",
    "ax2.set_ylabel('', color='tab:red')  \n",
    "\n",
    "# Graficamos \"Indicador Rvpar\" en el segundo eje y\n",
    "line2 = ax2.plot(df.index, df['Indicador Rvpar'], label='Indicador Rvpar', color='tab:red')\n",
    "\n",
    "# ponemos leyendas combinadas (esto no hace falta)\n",
    "lines = line1 + line2\n",
    "labels = [l.get_label() for l in lines]\n",
    "ax1.legend(lines, labels, loc='upper left')\n",
    "\n",
    "plt.show()\n"
   ]
  },
  {
   "cell_type": "code",
   "execution_count": null,
   "metadata": {},
   "outputs": [],
   "source": [
    "# vamos a realizar algo diferente a lo conocido. me han recomendado una red neuronal que es muy buena para series temporales.\n",
    "# se llama timegpt-1 - neuralforecast \n",
    "# en su github ponen este código de ejemplo:\n",
    "\n",
    "# from neuralforecast import NeuralForecast\n",
    "# from neuralforecast.models import NBEATS\n",
    "# from neuralforecast.utils import AirPassengersDF\n",
    "\n",
    "# nf = NeuralForecast(\n",
    "#     models = [NBEATS(input_size=24, h=12, max_steps=100)],\n",
    "#     freq = 'M'\n",
    "# )\n",
    "\n",
    "# nf.fit(df=AirPassengersDF)\n",
    "# nf.predict()\n",
    "\n",
    "# vamos a emplearlo para nuestro código"
   ]
  },
  {
   "cell_type": "code",
   "execution_count": 60,
   "metadata": {},
   "outputs": [],
   "source": [
    "# primero preparamos el dataframe según instrucciones de NF\n",
    "# reseteamos el index\n",
    "df_reset = df.reset_index()"
   ]
  },
  {
   "cell_type": "code",
   "execution_count": 61,
   "metadata": {},
   "outputs": [
    {
     "data": {
      "text/html": [
       "<div>\n",
       "<style scoped>\n",
       "    .dataframe tbody tr th:only-of-type {\n",
       "        vertical-align: middle;\n",
       "    }\n",
       "\n",
       "    .dataframe tbody tr th {\n",
       "        vertical-align: top;\n",
       "    }\n",
       "\n",
       "    .dataframe thead th {\n",
       "        text-align: right;\n",
       "    }\n",
       "</style>\n",
       "<table border=\"1\" class=\"dataframe\">\n",
       "  <thead>\n",
       "    <tr style=\"text-align: right;\">\n",
       "      <th></th>\n",
       "      <th>index</th>\n",
       "      <th>Indicador Adr</th>\n",
       "      <th>Tasa Variacion Adr</th>\n",
       "      <th>Indicador Rvpar</th>\n",
       "      <th>Tasa Variacion Rvpar</th>\n",
       "    </tr>\n",
       "  </thead>\n",
       "  <tbody>\n",
       "    <tr>\n",
       "      <th>0</th>\n",
       "      <td>2008-01-01</td>\n",
       "      <td>64.63</td>\n",
       "      <td>0.00</td>\n",
       "      <td>22.76</td>\n",
       "      <td>0.00</td>\n",
       "    </tr>\n",
       "    <tr>\n",
       "      <th>1</th>\n",
       "      <td>2008-02-01</td>\n",
       "      <td>62.72</td>\n",
       "      <td>0.00</td>\n",
       "      <td>30.23</td>\n",
       "      <td>0.00</td>\n",
       "    </tr>\n",
       "    <tr>\n",
       "      <th>2</th>\n",
       "      <td>2008-03-01</td>\n",
       "      <td>63.76</td>\n",
       "      <td>0.00</td>\n",
       "      <td>32.53</td>\n",
       "      <td>0.00</td>\n",
       "    </tr>\n",
       "    <tr>\n",
       "      <th>3</th>\n",
       "      <td>2008-04-01</td>\n",
       "      <td>63.42</td>\n",
       "      <td>0.00</td>\n",
       "      <td>29.43</td>\n",
       "      <td>0.00</td>\n",
       "    </tr>\n",
       "    <tr>\n",
       "      <th>4</th>\n",
       "      <td>2008-05-01</td>\n",
       "      <td>62.95</td>\n",
       "      <td>0.00</td>\n",
       "      <td>31.59</td>\n",
       "      <td>0.00</td>\n",
       "    </tr>\n",
       "    <tr>\n",
       "      <th>...</th>\n",
       "      <td>...</td>\n",
       "      <td>...</td>\n",
       "      <td>...</td>\n",
       "      <td>...</td>\n",
       "      <td>...</td>\n",
       "    </tr>\n",
       "    <tr>\n",
       "      <th>186</th>\n",
       "      <td>2023-07-01</td>\n",
       "      <td>87.64</td>\n",
       "      <td>6.38</td>\n",
       "      <td>53.64</td>\n",
       "      <td>6.07</td>\n",
       "    </tr>\n",
       "    <tr>\n",
       "      <th>187</th>\n",
       "      <td>2023-08-01</td>\n",
       "      <td>92.66</td>\n",
       "      <td>4.34</td>\n",
       "      <td>62.11</td>\n",
       "      <td>1.82</td>\n",
       "    </tr>\n",
       "    <tr>\n",
       "      <th>188</th>\n",
       "      <td>2023-09-01</td>\n",
       "      <td>74.58</td>\n",
       "      <td>10.20</td>\n",
       "      <td>44.88</td>\n",
       "      <td>14.43</td>\n",
       "    </tr>\n",
       "    <tr>\n",
       "      <th>189</th>\n",
       "      <td>2023-10-01</td>\n",
       "      <td>66.06</td>\n",
       "      <td>9.33</td>\n",
       "      <td>34.93</td>\n",
       "      <td>5.55</td>\n",
       "    </tr>\n",
       "    <tr>\n",
       "      <th>190</th>\n",
       "      <td>2023-11-01</td>\n",
       "      <td>64.17</td>\n",
       "      <td>11.61</td>\n",
       "      <td>33.81</td>\n",
       "      <td>19.14</td>\n",
       "    </tr>\n",
       "  </tbody>\n",
       "</table>\n",
       "<p>191 rows × 5 columns</p>\n",
       "</div>"
      ],
      "text/plain": [
       "         index  Indicador Adr  Tasa Variacion Adr  Indicador Rvpar  \\\n",
       "0   2008-01-01          64.63                0.00            22.76   \n",
       "1   2008-02-01          62.72                0.00            30.23   \n",
       "2   2008-03-01          63.76                0.00            32.53   \n",
       "3   2008-04-01          63.42                0.00            29.43   \n",
       "4   2008-05-01          62.95                0.00            31.59   \n",
       "..         ...            ...                 ...              ...   \n",
       "186 2023-07-01          87.64                6.38            53.64   \n",
       "187 2023-08-01          92.66                4.34            62.11   \n",
       "188 2023-09-01          74.58               10.20            44.88   \n",
       "189 2023-10-01          66.06                9.33            34.93   \n",
       "190 2023-11-01          64.17               11.61            33.81   \n",
       "\n",
       "     Tasa Variacion Rvpar  \n",
       "0                    0.00  \n",
       "1                    0.00  \n",
       "2                    0.00  \n",
       "3                    0.00  \n",
       "4                    0.00  \n",
       "..                    ...  \n",
       "186                  6.07  \n",
       "187                  1.82  \n",
       "188                 14.43  \n",
       "189                  5.55  \n",
       "190                 19.14  \n",
       "\n",
       "[191 rows x 5 columns]"
      ]
     },
     "execution_count": 61,
     "metadata": {},
     "output_type": "execute_result"
    }
   ],
   "source": [
    "df_reset"
   ]
  },
  {
   "cell_type": "code",
   "execution_count": 66,
   "metadata": {},
   "outputs": [],
   "source": [
    "# importamos librerías\n",
    "from neuralforecast import NeuralForecast\n",
    "from neuralforecast.models import NBEATS"
   ]
  },
  {
   "cell_type": "code",
   "execution_count": 62,
   "metadata": {},
   "outputs": [],
   "source": [
    "# Ahora, 'df_reset' tiene una columna adicional al principio que representa el índice de tiempo anterior (FECHA)\n",
    "# Renombrar las columnas adecuadamente: 'ds' para el tiempo y 'y' para 'Indicador Adr'\n",
    "df_reset.rename(columns={'index': 'ds', 'Indicador Adr': 'y'}, inplace=True)"
   ]
  },
  {
   "cell_type": "code",
   "execution_count": 63,
   "metadata": {},
   "outputs": [
    {
     "data": {
      "text/html": [
       "<div>\n",
       "<style scoped>\n",
       "    .dataframe tbody tr th:only-of-type {\n",
       "        vertical-align: middle;\n",
       "    }\n",
       "\n",
       "    .dataframe tbody tr th {\n",
       "        vertical-align: top;\n",
       "    }\n",
       "\n",
       "    .dataframe thead th {\n",
       "        text-align: right;\n",
       "    }\n",
       "</style>\n",
       "<table border=\"1\" class=\"dataframe\">\n",
       "  <thead>\n",
       "    <tr style=\"text-align: right;\">\n",
       "      <th></th>\n",
       "      <th>ds</th>\n",
       "      <th>y</th>\n",
       "      <th>Tasa Variacion Adr</th>\n",
       "      <th>Indicador Rvpar</th>\n",
       "      <th>Tasa Variacion Rvpar</th>\n",
       "    </tr>\n",
       "  </thead>\n",
       "  <tbody>\n",
       "    <tr>\n",
       "      <th>0</th>\n",
       "      <td>2008-01-01</td>\n",
       "      <td>64.63</td>\n",
       "      <td>0.00</td>\n",
       "      <td>22.76</td>\n",
       "      <td>0.00</td>\n",
       "    </tr>\n",
       "    <tr>\n",
       "      <th>1</th>\n",
       "      <td>2008-02-01</td>\n",
       "      <td>62.72</td>\n",
       "      <td>0.00</td>\n",
       "      <td>30.23</td>\n",
       "      <td>0.00</td>\n",
       "    </tr>\n",
       "    <tr>\n",
       "      <th>2</th>\n",
       "      <td>2008-03-01</td>\n",
       "      <td>63.76</td>\n",
       "      <td>0.00</td>\n",
       "      <td>32.53</td>\n",
       "      <td>0.00</td>\n",
       "    </tr>\n",
       "    <tr>\n",
       "      <th>3</th>\n",
       "      <td>2008-04-01</td>\n",
       "      <td>63.42</td>\n",
       "      <td>0.00</td>\n",
       "      <td>29.43</td>\n",
       "      <td>0.00</td>\n",
       "    </tr>\n",
       "    <tr>\n",
       "      <th>4</th>\n",
       "      <td>2008-05-01</td>\n",
       "      <td>62.95</td>\n",
       "      <td>0.00</td>\n",
       "      <td>31.59</td>\n",
       "      <td>0.00</td>\n",
       "    </tr>\n",
       "    <tr>\n",
       "      <th>...</th>\n",
       "      <td>...</td>\n",
       "      <td>...</td>\n",
       "      <td>...</td>\n",
       "      <td>...</td>\n",
       "      <td>...</td>\n",
       "    </tr>\n",
       "    <tr>\n",
       "      <th>186</th>\n",
       "      <td>2023-07-01</td>\n",
       "      <td>87.64</td>\n",
       "      <td>6.38</td>\n",
       "      <td>53.64</td>\n",
       "      <td>6.07</td>\n",
       "    </tr>\n",
       "    <tr>\n",
       "      <th>187</th>\n",
       "      <td>2023-08-01</td>\n",
       "      <td>92.66</td>\n",
       "      <td>4.34</td>\n",
       "      <td>62.11</td>\n",
       "      <td>1.82</td>\n",
       "    </tr>\n",
       "    <tr>\n",
       "      <th>188</th>\n",
       "      <td>2023-09-01</td>\n",
       "      <td>74.58</td>\n",
       "      <td>10.20</td>\n",
       "      <td>44.88</td>\n",
       "      <td>14.43</td>\n",
       "    </tr>\n",
       "    <tr>\n",
       "      <th>189</th>\n",
       "      <td>2023-10-01</td>\n",
       "      <td>66.06</td>\n",
       "      <td>9.33</td>\n",
       "      <td>34.93</td>\n",
       "      <td>5.55</td>\n",
       "    </tr>\n",
       "    <tr>\n",
       "      <th>190</th>\n",
       "      <td>2023-11-01</td>\n",
       "      <td>64.17</td>\n",
       "      <td>11.61</td>\n",
       "      <td>33.81</td>\n",
       "      <td>19.14</td>\n",
       "    </tr>\n",
       "  </tbody>\n",
       "</table>\n",
       "<p>191 rows × 5 columns</p>\n",
       "</div>"
      ],
      "text/plain": [
       "            ds      y  Tasa Variacion Adr  Indicador Rvpar  \\\n",
       "0   2008-01-01  64.63                0.00            22.76   \n",
       "1   2008-02-01  62.72                0.00            30.23   \n",
       "2   2008-03-01  63.76                0.00            32.53   \n",
       "3   2008-04-01  63.42                0.00            29.43   \n",
       "4   2008-05-01  62.95                0.00            31.59   \n",
       "..         ...    ...                 ...              ...   \n",
       "186 2023-07-01  87.64                6.38            53.64   \n",
       "187 2023-08-01  92.66                4.34            62.11   \n",
       "188 2023-09-01  74.58               10.20            44.88   \n",
       "189 2023-10-01  66.06                9.33            34.93   \n",
       "190 2023-11-01  64.17               11.61            33.81   \n",
       "\n",
       "     Tasa Variacion Rvpar  \n",
       "0                    0.00  \n",
       "1                    0.00  \n",
       "2                    0.00  \n",
       "3                    0.00  \n",
       "4                    0.00  \n",
       "..                    ...  \n",
       "186                  6.07  \n",
       "187                  1.82  \n",
       "188                 14.43  \n",
       "189                  5.55  \n",
       "190                 19.14  \n",
       "\n",
       "[191 rows x 5 columns]"
      ]
     },
     "execution_count": 63,
     "metadata": {},
     "output_type": "execute_result"
    }
   ],
   "source": [
    "df_reset"
   ]
  },
  {
   "cell_type": "code",
   "execution_count": 64,
   "metadata": {},
   "outputs": [],
   "source": [
    "# nos tenemos que asegurar de que solo estén las columnas ds, y, dropeamos en resto\n",
    "df_reset = df_reset.drop(columns=['Tasa Variacion Adr', 'Indicador Rvpar', 'Tasa Variacion Rvpar'])"
   ]
  },
  {
   "cell_type": "code",
   "execution_count": 65,
   "metadata": {},
   "outputs": [],
   "source": [
    "# pasar solo estas dos columnas a NeuralForecast\n",
    "df_for_forecast = df_reset[['ds', 'y']]"
   ]
  },
  {
   "cell_type": "code",
   "execution_count": 68,
   "metadata": {},
   "outputs": [],
   "source": [
    "# Agregar una columna 'unique_id' que identifique la serie temporal\n",
    "df_for_forecast['unique_id'] = 'Indicador_Adr_Serie'"
   ]
  },
  {
   "cell_type": "code",
   "execution_count": 69,
   "metadata": {},
   "outputs": [
    {
     "name": "stderr",
     "output_type": "stream",
     "text": [
      "Seed set to 1\n"
     ]
    },
    {
     "name": "stdout",
     "output_type": "stream",
     "text": [
      "WARNING:tensorflow:From c:\\Users\\Borja BOOTCAMP\\onedrive\\VIRTUAL_ENVS\\CF_ML\\ML_CF\\lib\\site-packages\\keras\\src\\losses.py:2976: The name tf.losses.sparse_softmax_cross_entropy is deprecated. Please use tf.compat.v1.losses.sparse_softmax_cross_entropy instead.\n",
      "\n"
     ]
    },
    {
     "data": {
      "application/vnd.jupyter.widget-view+json": {
       "model_id": "4268f9abd1bb40adab6ce59ef364dc0f",
       "version_major": 2,
       "version_minor": 0
      },
      "text/plain": [
       "Sanity Checking: |          | 0/? [00:00<?, ?it/s]"
      ]
     },
     "metadata": {},
     "output_type": "display_data"
    },
    {
     "data": {
      "application/vnd.jupyter.widget-view+json": {
       "model_id": "ddf485b979784081a7f5c50d3369b99b",
       "version_major": 2,
       "version_minor": 0
      },
      "text/plain": [
       "Training: |          | 0/? [00:00<?, ?it/s]"
      ]
     },
     "metadata": {},
     "output_type": "display_data"
    },
    {
     "data": {
      "application/vnd.jupyter.widget-view+json": {
       "model_id": "720190ef25584e3f86aac642c1cadb08",
       "version_major": 2,
       "version_minor": 0
      },
      "text/plain": [
       "Validation: |          | 0/? [00:00<?, ?it/s]"
      ]
     },
     "metadata": {},
     "output_type": "display_data"
    },
    {
     "data": {
      "application/vnd.jupyter.widget-view+json": {
       "model_id": "911bc860fc844fb4b07fd24b9bbfe418",
       "version_major": 2,
       "version_minor": 0
      },
      "text/plain": [
       "Predicting: |          | 0/? [00:00<?, ?it/s]"
      ]
     },
     "metadata": {},
     "output_type": "display_data"
    }
   ],
   "source": [
    "# El índice de 'df' ya está en formato datetime y es mensual ('M')\n",
    "# NeuralForecast espera una columna 'ds' para la fecha y 'y' para los valores\n",
    "\n",
    "nf = NeuralForecast(\n",
    "    models = [NBEATS(input_size=24, h=12, max_steps=100)],  # Ajustados estos para la predicción de 12 meses\n",
    "    freq = 'M'  # Frecuencia mensual\n",
    ")\n",
    "\n",
    "# DataFrame esté en el formato esperado por NeuralForecast\n",
    "nf.fit(df=df_for_forecast)\n",
    "predictions = nf.predict() # 'predictions' contendrá las predicciones para los próximos 12 meses\n"
   ]
  },
  {
   "cell_type": "code",
   "execution_count": 73,
   "metadata": {},
   "outputs": [
    {
     "name": "stdout",
     "output_type": "stream",
     "text": [
      "                            ds     NBEATS\n",
      "unique_id                                \n",
      "Indicador_Adr_Serie 2023-11-30  64.847023\n",
      "Indicador_Adr_Serie 2023-12-31  62.387688\n",
      "Indicador_Adr_Serie 2024-01-31  60.046680\n",
      "Indicador_Adr_Serie 2024-02-29  62.358810\n",
      "Indicador_Adr_Serie 2024-03-31  63.400951\n"
     ]
    }
   ],
   "source": [
    "# parece que todo ha ido OK, vamos a graficar los resultados\n",
    "# vamos a ver qué tipo de datos devuelve 'predictions' \n",
    "print(predictions.head())"
   ]
  },
  {
   "cell_type": "code",
   "execution_count": 77,
   "metadata": {},
   "outputs": [
    {
     "data": {
      "text/plain": [
       "y            float64\n",
       "unique_id     object\n",
       "dtype: object"
      ]
     },
     "execution_count": 77,
     "metadata": {},
     "output_type": "execute_result"
    }
   ],
   "source": [
    "df_for_forecast"
   ]
  },
  {
   "cell_type": "code",
   "execution_count": 79,
   "metadata": {},
   "outputs": [
    {
     "data": {
      "image/png": "[encoded data removed]",
      "text/plain": [
       "<Figure size 1200x600 with 1 Axes>"
      ]
     },
     "metadata": {},
     "output_type": "display_data"
    }
   ],
   "source": [
    "# Asegúrate de que 'predictions' tiene 'ds' en formato datetime\n",
    "# predictions['ds'] = pd.to_datetime(predictions['ds'])\n",
    "\n",
    "# Asegúrate de que 'df_for_forecast' también esté adecuadamente indexado por 'ds'\n",
    "# Si 'df_for_forecast' ya no tiene la columna 'ds', asegúrate de resetear el índice o ajustar según tu situación actual\n",
    "# df_for_forecast.reset_index(inplace=True)\n",
    "# df_for_forecast.rename(columns={'index': 'ds'}, inplace=True)\n",
    "# df_for_forecast['ds'] = pd.to_datetime(df_for_forecast['ds'])\n",
    "# df_for_forecast.set_index('ds', inplace=True)\n",
    "\n",
    "# Graficar\n",
    "plt.figure(figsize=(12, 6))\n",
    "plt.plot(df_for_forecast.index, df_for_forecast['y'], label='Histórico', color='#2d8bba')\n",
    "plt.plot(predictions['ds'], predictions['NBEATS'], label='Predicción NBEATS', linestyle='--', color='red')\n",
    "plt.title('Histórico + Proyección Indicador Adr')\n",
    "plt.xlabel('')\n",
    "plt.ylabel('')\n",
    "plt.legend()\n",
    "plt.show()"
   ]
  },
  {
   "cell_type": "code",
   "execution_count": 80,
   "metadata": {},
   "outputs": [],
   "source": [
    "# vamos a ver la efectividad del modelo. "
   ]
  }
 ],
 "metadata": {
  "kernelspec": {
   "display_name": "ML_CF",
   "language": "python",
   "name": "python3"
  },
  "language_info": {
   "codemirror_mode": {
    "name": "ipython",
    "version": 3
   },
   "file_extension": ".py",
   "mimetype": "text/x-python",
   "name": "python",
   "nbconvert_exporter": "python",
   "pygments_lexer": "ipython3",
   "version": "3.9.13"
  }
 },
 "nbformat": 4,
 "nbformat_minor": 2
}
